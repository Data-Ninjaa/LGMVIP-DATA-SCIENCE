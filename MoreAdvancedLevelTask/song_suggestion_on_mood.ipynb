{
 "cells": [
  {
   "cell_type": "markdown",
   "id": "9570f380",
   "metadata": {},
   "source": [
    "# Haleema Sadia\n"
   ]
  },
  {
   "cell_type": "markdown",
   "id": "c4e6b6d4",
   "metadata": {},
   "source": [
    "# Task 10: ML Facial recognition to detect mood and suggest songs accordingly"
   ]
  },
  {
   "cell_type": "markdown",
   "id": "7fd8eaf4",
   "metadata": {},
   "source": [
    "# Lgmvip Data Science Internship july"
   ]
  },
  {
   "cell_type": "markdown",
   "id": "3e5ea6a4",
   "metadata": {},
   "source": [
    "## Dataset Link : https://www.kaggle.com/datasets/msambare/fer2013 "
   ]
  },
  {
   "cell_type": "code",
   "execution_count": 81,
   "id": "af8ed522",
   "metadata": {},
   "outputs": [],
   "source": [
    "# load libraries\n",
    "import pandas as pd\n",
    "import numpy as np\n",
    "import matplotlib.pyplot as plt\n",
    "from tensorflow.keras.preprocessing import image\n",
    "from tensorflow.keras.preprocessing.image import ImageDataGenerator\n",
    "import cv2\n",
    "from tensorflow.keras.models import Sequential\n",
    "from tensorflow.keras.layers import Dense, Dropout, Flatten, BatchNormalization, Conv2D,MaxPooling2D,Activation\n",
    "from tensorflow.keras.optimizers import Adam\n",
    "from tensorflow.keras.preprocessing.image import ImageDataGenerator\n",
    "from tensorflow.keras.callbacks import ReduceLROnPlateau, ModelCheckpoint\n",
    "from tensorflow.keras.models import load_model\n",
    "import matplotlib.pyplot as plt\n",
    "from IPython.display import Audio\n",
    "import os\n",
    "from sklearn.preprocessing import OneHotEncoder\n",
    "from PIL import Image\n",
    "import math\n",
    "from sklearn.preprocessing import LabelEncoder\n",
    "from tensorflow.keras.models import load_model"
   ]
  },
  {
   "cell_type": "markdown",
   "id": "4d776a22",
   "metadata": {},
   "source": [
    "## Load data method"
   ]
  },
  {
   "cell_type": "code",
   "execution_count": 20,
   "id": "65dca655",
   "metadata": {},
   "outputs": [],
   "source": [
    "#load data\n",
    "def extract_data(folder):\n",
    "    url = \"C:\\\\Users\\\\92336\\\\Downloads\\\\FaceData\\\\\"+folder+\"\\\\\"\n",
    "    data = []\n",
    "    i = 0\n",
    "    for filename in os.listdir(url):\n",
    "        #reading an image and converting it to grey scale\n",
    "        image = cv2.imread(os.path.join(url, filename), cv2.IMREAD_GRAYSCALE)\n",
    "        #inverting the pixels of an image\n",
    "        #check if the image is a valid image or not\n",
    "        if image is not None:\n",
    "            #rehshape the image vector\n",
    "            #assign a label to an image\n",
    "            data.append(image)\n",
    "            data[i] = np.append(data[i])\n",
    "            i+=1\n",
    "    return data"
   ]
  },
  {
   "cell_type": "markdown",
   "id": "f15f6b2e",
   "metadata": {},
   "source": [
    "## Data extraction"
   ]
  },
  {
   "cell_type": "code",
   "execution_count": 146,
   "id": "d1b6975c",
   "metadata": {},
   "outputs": [],
   "source": [
    "#loading data with labels\n",
    "data_angry = extract_data(\"train\\\\angry\",0)\n",
    "data_disgust = extract_data(\"train\\\\disgust\",1)\n",
    "data_happy = extract_data(\"train\\\\happy\",2)\n",
    "data_sad = extract_data(\"train\\\\sad\",3)\n",
    "data_fear = extract_data(\"train\\\\fear\",4)\n",
    "data_neutral = extract_data(\"train\\\\neutral\",5)\n",
    "data_surprise = extract_data(\"train\\\\surprise\",6)"
   ]
  },
  {
   "cell_type": "code",
   "execution_count": 147,
   "id": "2af2abee",
   "metadata": {},
   "outputs": [],
   "source": [
    "data = np.concatenate((data_angry,data_sad,data_fear))\n",
    "data = np.concatenate((data,data_happy,data_disgust))\n",
    "data = np.concatenate((data,data_neutral,data_surprise))"
   ]
  },
  {
   "cell_type": "code",
   "execution_count": 148,
   "id": "c02397a8",
   "metadata": {},
   "outputs": [],
   "source": [
    "#converting into a dataframe\n",
    "df_train =pd.DataFrame(data,index=None)\n"
   ]
  },
  {
   "cell_type": "code",
   "execution_count": 149,
   "id": "a4a1aed8",
   "metadata": {},
   "outputs": [],
   "source": [
    "df_train.rename(columns = {2304:'label'}, inplace = True)\n"
   ]
  },
  {
   "cell_type": "code",
   "execution_count": 150,
   "id": "168db558",
   "metadata": {},
   "outputs": [],
   "source": [
    "df_train['label'] = df_train['label'].astype('category')\n",
    "df_train[\"label_new\"] = df_train['label'].cat.codes\n",
    "enc = OneHotEncoder()\n",
    "  \n",
    "# Passing encoded columns\n",
    "  \n",
    "enc_data = pd.DataFrame(enc.fit_transform(\n",
    "    df_train[['label_new']]).toarray())\n",
    "  \n",
    "y_train = enc_data\n",
    "y_train.to_csv('train_target.csv',index=False)"
   ]
  },
  {
   "cell_type": "code",
   "execution_count": 151,
   "id": "e36260f8",
   "metadata": {},
   "outputs": [],
   "source": [
    "df_train = df_train.drop(['label','label_new'],axis =1)"
   ]
  },
  {
   "cell_type": "code",
   "execution_count": 152,
   "id": "61d9e55b",
   "metadata": {},
   "outputs": [],
   "source": [
    "#saving data into a csv file\n",
    "df_train.to_csv('train_data.csv',index=False)"
   ]
  },
  {
   "cell_type": "code",
   "execution_count": 153,
   "id": "edb28f31",
   "metadata": {},
   "outputs": [],
   "source": [
    "#loading data with labels\n",
    "data_angry = extract_data(\"test\\\\angry\",0)\n",
    "data_disgust = extract_data(\"test\\\\disgust\",1)\n",
    "data_happy = extract_data(\"test\\\\happy\",2)\n",
    "data_sad = extract_data(\"test\\\\sad\",3)\n",
    "data_fear = extract_data(\"test\\\\fear\",4)\n",
    "data_neutral = extract_data(\"test\\\\neutral\",5)\n",
    "data_surprise = extract_data(\"test\\\\surprise\",6)"
   ]
  },
  {
   "cell_type": "code",
   "execution_count": 154,
   "id": "48bc210a",
   "metadata": {},
   "outputs": [],
   "source": [
    "data_t = np.concatenate((data_angry,data_sad,data_fear))\n",
    "data_t = np.concatenate((data_t,data_happy,data_disgust))\n",
    "data_t = np.concatenate((data_t,data_neutral,data_surprise))"
   ]
  },
  {
   "cell_type": "markdown",
   "id": "4beb1bcd",
   "metadata": {},
   "source": [
    "## Data Preprocessing"
   ]
  },
  {
   "cell_type": "code",
   "execution_count": 155,
   "id": "ff2e7e92",
   "metadata": {},
   "outputs": [],
   "source": [
    "df_test =pd.DataFrame(data_t,index=None)\n",
    "df_test.rename(columns = {2304:'label'}, inplace = True)"
   ]
  },
  {
   "cell_type": "code",
   "execution_count": 156,
   "id": "6894fdc4",
   "metadata": {},
   "outputs": [],
   "source": [
    "df_test['label'] = df_test['label'].astype('category')\n",
    "df_test[\"label_new\"] = df_test['label'].cat.codes\n",
    "encc = OneHotEncoder()\n",
    "  \n",
    "# Passing encoded columns\n",
    "  \n",
    "enc_data = pd.DataFrame(enc.fit_transform(\n",
    "    df_test[['label_new']]).toarray())"
   ]
  },
  {
   "cell_type": "code",
   "execution_count": 157,
   "id": "fe1ec2cd",
   "metadata": {},
   "outputs": [],
   "source": [
    "y_test = enc_data\n",
    "y_test.to_csv(\"test_target.csv\",index = False)\n",
    "df_test = df_test.drop(['label',\n",
    "                        'label_new'],axis = 1)\n",
    "df_test.to_csv(\"test_data.csv\",index = False)"
   ]
  },
  {
   "cell_type": "code",
   "execution_count": 37,
   "id": "60aa9200",
   "metadata": {},
   "outputs": [],
   "source": [
    "df_train = pd.read_csv(\"train_data.csv\")\n",
    "df_test = pd.read_csv(\"test_data.csv\")\n",
    "y_train = pd.read_csv(\"train_target.csv\")\n",
    "y_test = pd.read_csv(\"test_target.csv\")"
   ]
  },
  {
   "cell_type": "code",
   "execution_count": 88,
   "id": "3ab90d98",
   "metadata": {},
   "outputs": [
    {
     "name": "stdout",
     "output_type": "stream",
     "text": [
      "(7178, 7)\n",
      "(28709, 2304)\n"
     ]
    }
   ],
   "source": [
    "x_train = np.array(df_train)\n",
    "y_train = np.array(y_train)\n",
    "x_test = np.array(df_test)\n",
    "y_test = np.array(y_test)\n",
    "print(y_test.shape)\n",
    "print(x_train.shape)"
   ]
  },
  {
   "cell_type": "code",
   "execution_count": 89,
   "id": "0cc2f8f4",
   "metadata": {},
   "outputs": [
    {
     "name": "stdout",
     "output_type": "stream",
     "text": [
      "train_x size: (28709, 48, 48, 1)\n",
      "test_x size: (7178, 48, 48, 1)\n"
     ]
    }
   ],
   "source": [
    "# Convert arrays with image data (train_x and test_x)\n",
    "# Return the original image size from one-dimensional arrays obtained as a result of previous transformations for writing to.csv\n",
    "\n",
    "x_train = x_train.reshape(x_train.shape[0], int(math.sqrt(x_train.shape[1])), int(math.sqrt(x_train.shape[1])))\n",
    "x_test = x_test.reshape(x_test.shape[0], int(math.sqrt(x_test.shape[1])), int(math.sqrt(x_test.shape[1])))\n",
    "\n",
    "# Convert data type to float\n",
    "\n",
    "x_train = x_train.astype(float)\n",
    "x_test = x_test.astype(float)\n",
    "\n",
    "# Add one more dimension to the x array, since the images are one-color, its size is 1\n",
    "\n",
    "x_train = np.expand_dims(x_train, axis=3)\n",
    "x_test = np.expand_dims(x_test, axis=3)\n",
    "\n",
    "# Perform image normalization\n",
    "\n",
    "x_train = x_train / 255\n",
    "x_test =x_test / 255\n",
    "\n",
    "print(f'train_x size: {x_train.shape}\\ntest_x size: {x_test.shape}')"
   ]
  },
  {
   "cell_type": "markdown",
   "id": "656c98ca",
   "metadata": {},
   "source": [
    "## Building The model"
   ]
  },
  {
   "cell_type": "code",
   "execution_count": 112,
   "id": "a72bc2b7",
   "metadata": {},
   "outputs": [
    {
     "name": "stdout",
     "output_type": "stream",
     "text": [
      "Model: \"sequential_2\"\n",
      "_________________________________________________________________\n",
      "Layer (type)                 Output Shape              Param #   \n",
      "=================================================================\n",
      "conv2d_5 (Conv2D)            (None, 48, 48, 64)        640       \n",
      "_________________________________________________________________\n",
      "batch_normalization_4 (Batch (None, 48, 48, 64)        256       \n",
      "_________________________________________________________________\n",
      "max_pooling2d_4 (MaxPooling2 (None, 24, 24, 64)        0         \n",
      "_________________________________________________________________\n",
      "dropout_6 (Dropout)          (None, 24, 24, 64)        0         \n",
      "_________________________________________________________________\n",
      "conv2d_6 (Conv2D)            (None, 24, 24, 64)        36928     \n",
      "_________________________________________________________________\n",
      "batch_normalization_5 (Batch (None, 24, 24, 64)        256       \n",
      "_________________________________________________________________\n",
      "max_pooling2d_5 (MaxPooling2 (None, 12, 12, 64)        0         \n",
      "_________________________________________________________________\n",
      "dropout_7 (Dropout)          (None, 12, 12, 64)        0         \n",
      "_________________________________________________________________\n",
      "conv2d_7 (Conv2D)            (None, 12, 12, 64)        36928     \n",
      "_________________________________________________________________\n",
      "batch_normalization_6 (Batch (None, 12, 12, 64)        256       \n",
      "_________________________________________________________________\n",
      "max_pooling2d_6 (MaxPooling2 (None, 6, 6, 64)          0         \n",
      "_________________________________________________________________\n",
      "dropout_8 (Dropout)          (None, 6, 6, 64)          0         \n",
      "_________________________________________________________________\n",
      "flatten_2 (Flatten)          (None, 2304)              0         \n",
      "_________________________________________________________________\n",
      "dense_3 (Dense)              (None, 512)               1180160   \n",
      "_________________________________________________________________\n",
      "dropout_9 (Dropout)          (None, 512)               0         \n",
      "_________________________________________________________________\n",
      "dense_4 (Dense)              (None, 1024)              525312    \n",
      "_________________________________________________________________\n",
      "dropout_10 (Dropout)         (None, 1024)              0         \n",
      "_________________________________________________________________\n",
      "dense_5 (Dense)              (None, 7)                 7175      \n",
      "=================================================================\n",
      "Total params: 1,787,911\n",
      "Trainable params: 1,787,527\n",
      "Non-trainable params: 384\n",
      "_________________________________________________________________\n"
     ]
    }
   ],
   "source": [
    "model = Sequential()\n",
    "model.add(Conv2D(64,(3,3),padding = 'same',activation = 'relu',input_shape = (x_train.shape[1],x_train.shape[2],x_train.shape[3])))\n",
    "model.add(BatchNormalization())\n",
    "model.add(MaxPooling2D(pool_size=(2,2)))\n",
    "model.add(Dropout(0.2))\n",
    "\n",
    "model.add(Conv2D(64,(3,3),padding = 'same',activation = 'relu',input_shape = (x_train.shape[1],x_train.shape[2],x_train.shape[3])))\n",
    "model.add(BatchNormalization())\n",
    "model.add(MaxPooling2D(pool_size=(2,2)))\n",
    "model.add(Dropout(0.2))\n",
    "\n",
    "model.add(Conv2D(64,(3,3),padding = 'same',activation = 'relu',input_shape = (x_train.shape[1],x_train.shape[2],x_train.shape[3])))\n",
    "model.add(BatchNormalization())\n",
    "model.add(MaxPooling2D(pool_size=(2,2)))\n",
    "model.add(Dropout(0.2))\n",
    "model.add(Flatten())\n",
    "\n",
    "\n",
    "model.add(Dense(512, activation='relu'))\n",
    "model.add(Dropout(0.2))\n",
    "\n",
    "model.add(Dense(1024, activation='relu'))\n",
    "model.add(Dropout(0.2))\n",
    "\n",
    "model.add(Dense(units=7, activation='softmax'))\n",
    "\n",
    "model.summary()"
   ]
  },
  {
   "cell_type": "code",
   "execution_count": 114,
   "id": "760c76a4",
   "metadata": {},
   "outputs": [],
   "source": [
    "model.compile(optimizer=Adam(learning_rate=0.001, decay=1e-6), loss='categorical_crossentropy', metrics=['accuracy'])"
   ]
  },
  {
   "cell_type": "markdown",
   "id": "3d49812a",
   "metadata": {},
   "source": [
    "## Trainig the model"
   ]
  },
  {
   "cell_type": "code",
   "execution_count": 115,
   "id": "499765f2",
   "metadata": {},
   "outputs": [
    {
     "name": "stdout",
     "output_type": "stream",
     "text": [
      "Epoch 1/10\n",
      "225/225 [==============================] - 155s 682ms/step - loss: 1.7524 - accuracy: 0.3159\n",
      "Epoch 2/10\n",
      "225/225 [==============================] - 179s 797ms/step - loss: 1.4979 - accuracy: 0.4145\n",
      "Epoch 3/10\n",
      "225/225 [==============================] - 176s 783ms/step - loss: 1.3711 - accuracy: 0.4687\n",
      "Epoch 4/10\n",
      "225/225 [==============================] - 169s 752ms/step - loss: 1.2902 - accuracy: 0.5030\n",
      "Epoch 5/10\n",
      "225/225 [==============================] - 175s 779ms/step - loss: 1.2234 - accuracy: 0.5307\n",
      "Epoch 6/10\n",
      "225/225 [==============================] - 168s 747ms/step - loss: 1.1692 - accuracy: 0.5557\n",
      "Epoch 7/10\n",
      "225/225 [==============================] - 175s 778ms/step - loss: 1.1034 - accuracy: 0.5809\n",
      "Epoch 8/10\n",
      "225/225 [==============================] - 172s 763ms/step - loss: 1.0391 - accuracy: 0.6056\n",
      "Epoch 9/10\n",
      "225/225 [==============================] - 173s 770ms/step - loss: 0.9764 - accuracy: 0.6344\n",
      "Epoch 10/10\n",
      "225/225 [==============================] - 156s 695ms/step - loss: 0.9189 - accuracy: 0.6552\n"
     ]
    }
   ],
   "source": [
    "history = model.fit(x_train,\n",
    "                    y_train,\n",
    "                    epochs = 10,\n",
    "                    verbose = 1,\n",
    "                    batch_size = 128)"
   ]
  },
  {
   "cell_type": "code",
   "execution_count": 116,
   "id": "51fe6d0f",
   "metadata": {},
   "outputs": [],
   "source": [
    "model.save(\"model1.h5\")"
   ]
  },
  {
   "cell_type": "markdown",
   "id": "4f06feb2",
   "metadata": {},
   "source": [
    "## Prediction"
   ]
  },
  {
   "cell_type": "code",
   "execution_count": 133,
   "id": "de349063",
   "metadata": {},
   "outputs": [
    {
     "name": "stdout",
     "output_type": "stream",
     "text": [
      "x size: (1, 48, 48, 1, 1), x type: float32\n"
     ]
    },
    {
     "data": {
      "image/png": "[encoded data removed]",
      "text/plain": [
       "<Figure size 432x288 with 1 Axes>"
      ]
     },
     "metadata": {
      "needs_background": "light"
     },
     "output_type": "display_data"
    }
   ],
   "source": [
    "x = x_test[0]\n",
    "plt.imshow(x)\n",
    "x = x.astype('float32')\n",
    "# Add two dimensions to the x array. Since array contain only one image and the image are one-color, size of dimensions is 1\n",
    "x = np.expand_dims(x, axis=2)\n",
    "x = np.expand_dims(x, axis=0)\n",
    "# Perform image normalization\n",
    "x = x / 255\n",
    "\n",
    "print(f'x size: {x.shape}, x type: {x.dtype}')"
   ]
  },
  {
   "cell_type": "code",
   "execution_count": 143,
   "id": "67a07d1b",
   "metadata": {},
   "outputs": [
    {
     "name": "stdout",
     "output_type": "stream",
     "text": [
      "0\n",
      "angry :  0.52824944\n",
      "disgust :  0.00076344184\n",
      "happy :  0.15277629\n",
      "sad :  0.09286326\n",
      "fear :  0.011941005\n",
      "neutral :  0.19566342\n",
      "surprise :  0.01774313\n"
     ]
    }
   ],
   "source": [
    "prediction = model.predict(x)\n",
    "pred = enc.inverse_transform(prediction)\n",
    "print(pred[0][0])\n",
    "list = ['angry','disgust','happy','sad','fear','neutral','surprise']\n",
    "count = 0\n",
    "for i in prediction[0]:\n",
    "    print(list[count],\": \",i)\n",
    "    count+=1\n",
    "    "
   ]
  },
  {
   "cell_type": "markdown",
   "id": "1d2aa303",
   "metadata": {},
   "source": [
    "## The model predicted Angry"
   ]
  },
  {
   "cell_type": "code",
   "execution_count": 139,
   "id": "aaf96db3",
   "metadata": {},
   "outputs": [],
   "source": [
    "pred = pred[0][0]"
   ]
  },
  {
   "cell_type": "markdown",
   "id": "faf467a4",
   "metadata": {},
   "source": [
    "## Song Suggestion"
   ]
  },
  {
   "cell_type": "code",
   "execution_count": 144,
   "id": "19b05709",
   "metadata": {},
   "outputs": [
    {
     "name": "stdout",
     "output_type": "stream",
     "text": [
      "This person looks [[0]]!\n",
      "I think it is what he needs now! Listen to one of these tracks:\n",
      "http://inmood.ru/mood/angry/ , for example \"Violence — Dope\"\n"
     ]
    }
   ],
   "source": [
    "link = 'http://inmood.ru/mood/'\n",
    "print(f'This person looks {pred}!\\nI think it is what he needs now! Listen to one of these tracks:')\n",
    "\n",
    "if pred == 0: # angry\n",
    "    print(f'{link}angry/ , for example \"Violence — Dope\"')\n",
    "elif prediction == 1: # disgust\n",
    "    print(f'{link}rebel/ , for example \"Metallica — Die Die My Darling\"')\n",
    "elif prediction == 2: # fear\n",
    "    print(f'{link}happy/ , for example \"Safe And Sound — Capital Cities\"')\n",
    "elif prediction == 3: # happy\n",
    "    print(f'{link}sad/ , for example \"Black Black Heart — David Usher\"')\n",
    "elif prediction == 4: # neutral\n",
    "    print(f'{link}worried/ , for example \"Lux Aeterna — Clint Mansell Feat. Krono\"')\n",
    "elif prediction == 5: # sad\n",
    "    print(f'{link}calm/ , for example \"Im Not The Only One — Sam Smith\"')\n",
    "else: # surprise\n",
    "    print(f'{link}positive/ , for example \"I Got You (I Feel Good) — James Brown\"')\n",
    "\n"
   ]
  }
 ],
 "metadata": {
  "kernelspec": {
   "display_name": "Python 3 (ipykernel)",
   "language": "python",
   "name": "python3"
  },
  "language_info": {
   "codemirror_mode": {
    "name": "ipython",
    "version": 3
   },
   "file_extension": ".py",
   "mimetype": "text/x-python",
   "name": "python",
   "nbconvert_exporter": "python",
   "pygments_lexer": "ipython3",
   "version": "3.9.12"
  }
 },
 "nbformat": 4,
 "nbformat_minor": 5
}
