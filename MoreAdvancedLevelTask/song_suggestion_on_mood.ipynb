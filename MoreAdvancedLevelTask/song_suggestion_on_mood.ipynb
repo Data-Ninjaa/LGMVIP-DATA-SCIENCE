{
 "cells": [
  {
   "cell_type": "markdown",
   "id": "76ebc0e5",
   "metadata": {},
   "source": [
    "# Haleema Sadia\n"
   ]
  },
  {
   "cell_type": "markdown",
   "id": "2bc92918",
   "metadata": {},
   "source": [
    "# Task 10: ML Facial recognition to detect mood and suggest songs accordingly"
   ]
  },
  {
   "cell_type": "markdown",
   "id": "b019bcfe",
   "metadata": {},
   "source": [
    "# Lgmvip Data Science Internship july"
   ]
  },
  {
   "cell_type": "markdown",
   "id": "4a6d551c",
   "metadata": {},
   "source": [
    "## Dataset Link : https://www.kaggle.com/datasets/msambare/fer2013 "
   ]
  },
  {
   "cell_type": "code",
   "execution_count": null,
   "id": "86ce66b4",
   "metadata": {},
   "outputs": [],
   "source": [
    "# load libraries\n",
    "import pandas as pd\n",
    "import numpy as np\n",
    "import matplotlib.pyplot as plt\n"
   ]
  },
  {
   "cell_type": "code",
   "execution_count": null,
   "id": "5dba9cb0",
   "metadata": {},
   "outputs": [],
   "source": []
  },
  {
   "cell_type": "code",
   "execution_count": null,
   "id": "1bf80e27",
   "metadata": {},
   "outputs": [],
   "source": []
  },
  {
   "cell_type": "code",
   "execution_count": null,
   "id": "87d48dea",
   "metadata": {},
   "outputs": [],
   "source": []
  },
  {
   "cell_type": "code",
   "execution_count": null,
   "id": "059435af",
   "metadata": {},
   "outputs": [],
   "source": []
  },
  {
   "cell_type": "code",
   "execution_count": null,
   "id": "47ab0dff",
   "metadata": {},
   "outputs": [],
   "source": []
  }
 ],
 "metadata": {
  "kernelspec": {
   "display_name": "Python 3 (ipykernel)",
   "language": "python",
   "name": "python3"
  },
  "language_info": {
   "codemirror_mode": {
    "name": "ipython",
    "version": 3
   },
   "file_extension": ".py",
   "mimetype": "text/x-python",
   "name": "python",
   "nbconvert_exporter": "python",
   "pygments_lexer": "ipython3",
   "version": "3.9.12"
  }
 },
 "nbformat": 4,
 "nbformat_minor": 5
}
