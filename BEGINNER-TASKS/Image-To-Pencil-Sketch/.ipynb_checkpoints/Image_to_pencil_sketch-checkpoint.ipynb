{
 "cells": [
  {
   "cell_type": "markdown",
   "id": "ad2fa4b0",
   "metadata": {},
   "source": [
    "# Haleema Sadia"
   ]
  },
  {
   "cell_type": "markdown",
   "id": "94c29d63",
   "metadata": {},
   "source": [
    "# Task 4 Image to Pencil Sketch "
   ]
  },
  {
   "cell_type": "markdown",
   "id": "6f328b56",
   "metadata": {},
   "source": [
    "# lgmvip internship july"
   ]
  },
  {
   "cell_type": "code",
   "execution_count": 46,
   "id": "351ffd39",
   "metadata": {},
   "outputs": [],
   "source": [
    "#import libraries\n",
    "import cv2"
   ]
  },
  {
   "cell_type": "markdown",
   "id": "7cb51b91",
   "metadata": {},
   "source": [
    "## Load Image"
   ]
  },
  {
   "cell_type": "code",
   "execution_count": 47,
   "id": "b2afffb0",
   "metadata": {},
   "outputs": [],
   "source": [
    "#load image\n",
    "my_image = cv2.imread(\"catt.jpg\")"
   ]
  },
  {
   "cell_type": "code",
   "execution_count": 48,
   "id": "4e04e989",
   "metadata": {},
   "outputs": [
    {
     "data": {
      "text/plain": [
       "(174, 290, 3)"
      ]
     },
     "execution_count": 48,
     "metadata": {},
     "output_type": "execute_result"
    }
   ],
   "source": [
    "my_image.shape\n"
   ]
  },
  {
   "cell_type": "markdown",
   "id": "5a9068db",
   "metadata": {},
   "source": [
    "## SHow_image method"
   ]
  },
  {
   "cell_type": "code",
   "execution_count": 49,
   "id": "83601899",
   "metadata": {},
   "outputs": [],
   "source": [
    "def show_image(image):\n",
    "    cv2.imshow('Image Window',image)\n",
    "    cv2.waitKey(0)\n",
    "    cv2.destroyAllWindows()\n",
    "    "
   ]
  },
  {
   "cell_type": "code",
   "execution_count": 62,
   "id": "afea7147",
   "metadata": {},
   "outputs": [],
   "source": [
    "show_image(my_image)"
   ]
  },
  {
   "cell_type": "markdown",
   "id": "af5dcf24",
   "metadata": {},
   "source": [
    "## Convert to grey scale"
   ]
  },
  {
   "cell_type": "code",
   "execution_count": 63,
   "id": "8fd0ac4b",
   "metadata": {},
   "outputs": [],
   "source": [
    "grey_image = cv2.cvtColor(my_image,cv2.COLOR_BGR2GRAY)\n",
    "show_image(grey_image)"
   ]
  },
  {
   "cell_type": "markdown",
   "id": "26d65bde",
   "metadata": {},
   "source": [
    "## Invert the grey scale image"
   ]
  },
  {
   "cell_type": "code",
   "execution_count": 64,
   "id": "6419864a",
   "metadata": {},
   "outputs": [],
   "source": [
    "inverted_image = 255 - grey_image\n",
    "show_image(inverted_image)"
   ]
  },
  {
   "cell_type": "markdown",
   "id": "afef292d",
   "metadata": {},
   "source": [
    "# Blur the inverted Image"
   ]
  },
  {
   "cell_type": "code",
   "execution_count": 65,
   "id": "953fa425",
   "metadata": {},
   "outputs": [],
   "source": [
    "blurred = cv2.GaussianBlur(inverted_image, (21, 21), 0)\n",
    "inverted_blurred = 255 - blurred\n",
    "show_image(inverted_blurred)"
   ]
  },
  {
   "cell_type": "markdown",
   "id": "b12146b4",
   "metadata": {},
   "source": [
    "# pencil SKetch"
   ]
  },
  {
   "cell_type": "code",
   "execution_count": 66,
   "id": "b317ba6b",
   "metadata": {},
   "outputs": [],
   "source": [
    "pencil_sketch = cv2.divide(grey_image, inverted_blurred, scale = 256.0)\n",
    "show_image(pencil_sketch)"
   ]
  },
  {
   "cell_type": "code",
   "execution_count": 67,
   "id": "cbf35772",
   "metadata": {},
   "outputs": [
    {
     "data": {
      "text/plain": [
       "-1"
      ]
     },
     "execution_count": 67,
     "metadata": {},
     "output_type": "execute_result"
    }
   ],
   "source": [
    "cv2.imshow(\"Original Image\",my_image)\n",
    "cv2.imshow(\"Pencil Sketch\",pencil_sketch)\n",
    "cv2.waitKey(0)"
   ]
  }
 ],
 "metadata": {
  "kernelspec": {
   "display_name": "Python 3 (ipykernel)",
   "language": "python",
   "name": "python3"
  },
  "language_info": {
   "codemirror_mode": {
    "name": "ipython",
    "version": 3
   },
   "file_extension": ".py",
   "mimetype": "text/x-python",
   "name": "python",
   "nbconvert_exporter": "python",
   "pygments_lexer": "ipython3",
   "version": "3.9.12"
  }
 },
 "nbformat": 4,
 "nbformat_minor": 5
}
