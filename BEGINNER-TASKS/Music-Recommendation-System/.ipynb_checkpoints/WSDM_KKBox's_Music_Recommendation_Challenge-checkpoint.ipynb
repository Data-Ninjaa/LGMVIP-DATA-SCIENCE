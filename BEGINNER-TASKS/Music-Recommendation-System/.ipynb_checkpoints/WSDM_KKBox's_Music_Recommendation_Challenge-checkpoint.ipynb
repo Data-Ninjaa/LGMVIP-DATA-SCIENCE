{
 "cells": [
  {
   "cell_type": "markdown",
   "id": "8c8b4eca",
   "metadata": {},
   "source": [
    "# Haleema Sadia"
   ]
  },
  {
   "cell_type": "markdown",
   "id": "b7533ecc",
   "metadata": {},
   "source": [
    "# Task 3 Music Recommendation"
   ]
  },
  {
   "cell_type": "markdown",
   "id": "4b279841",
   "metadata": {},
   "source": [
    "# LGMVIP Data Science Internship  #JULY"
   ]
  },
  {
   "cell_type": "markdown",
   "id": "af0bb095",
   "metadata": {},
   "source": [
    "# Problem Statement : Predict Wether a user will re-listen to a song or not"
   ]
  },
  {
   "cell_type": "markdown",
   "id": "5723c6a3",
   "metadata": {},
   "source": [
    "## Dataset link: https://www.kaggle.com/competitions/kkbox-music-recommendation-challenge/data"
   ]
  },
  {
   "cell_type": "code",
   "execution_count": 126,
   "id": "55474ef7",
   "metadata": {},
   "outputs": [],
   "source": [
    "#import all libraries\n",
    "import pandas as pd\n",
    "import seaborn as sns\n",
    "import numpy as np\n",
    "import matplotlib.pyplot as plt\n",
    "import sklearn\n",
    "from xgboost import XGBClassifier\n",
    "from sklearn.impute import SimpleImputer\n",
    "from scipy import stats\n",
    "from category_encoders  import TargetEncoder\n",
    "from sklearn.preprocessing import LabelEncoder\n",
    "from sklearn.model_selection import train_test_split\n",
    "pd.options.mode.chained_assignment = None  # default='warn\n",
    "from sklearn.metrics import accuracy_score\n",
    "from sklearn.linear_model import LogisticRegression\n",
    "from sklearn.ensemble import RandomForestClassifier\n",
    "from sklearn.ensemble import GradientBoostingClassifier\n",
    "import lightgbm as lgb\n",
    "from sklearn import tree\n",
    "from sklearn.model_selection import GridSearchCV,\\\n",
    "RandomizedSearchCV\n",
    "from sklearn.metrics import roc_curve, roc_auc_score\n",
    "\n",
    "from sklearn.metrics import classification_report"
   ]
  },
  {
   "cell_type": "code",
   "execution_count": 4,
   "id": "72af8ca6",
   "metadata": {},
   "outputs": [],
   "source": [
    "#load data\n",
    "path = \"C:\\\\Users\\\\92336\\\\Desktop\\\\dats\\\\\"\n",
    "train_data = pd.read_csv(path+\"train.csv\")\n",
    "test_data = pd.read_csv(path+\"test.csv\")\n",
    "members_data = pd.read_csv(path+\"members.csv\")\n",
    "songs_data = pd.read_csv(path+\"songs.csv\")\n",
    "songs_info_data = pd.read_csv(path+\"song_extra_info.csv\")"
   ]
  },
  {
   "cell_type": "markdown",
   "id": "54287880",
   "metadata": {},
   "source": [
    "## Information About Dataset"
   ]
  },
  {
   "cell_type": "code",
   "execution_count": 5,
   "id": "85e3a689",
   "metadata": {},
   "outputs": [
    {
     "data": {
      "text/html": [
       "<div>\n",
       "<style scoped>\n",
       "    .dataframe tbody tr th:only-of-type {\n",
       "        vertical-align: middle;\n",
       "    }\n",
       "\n",
       "    .dataframe tbody tr th {\n",
       "        vertical-align: top;\n",
       "    }\n",
       "\n",
       "    .dataframe thead th {\n",
       "        text-align: right;\n",
       "    }\n",
       "</style>\n",
       "<table border=\"1\" class=\"dataframe\">\n",
       "  <thead>\n",
       "    <tr style=\"text-align: right;\">\n",
       "      <th></th>\n",
       "      <th>msno</th>\n",
       "      <th>song_id</th>\n",
       "      <th>source_system_tab</th>\n",
       "      <th>source_screen_name</th>\n",
       "      <th>source_type</th>\n",
       "      <th>target</th>\n",
       "    </tr>\n",
       "  </thead>\n",
       "  <tbody>\n",
       "    <tr>\n",
       "      <th>0</th>\n",
       "      <td>FGtllVqz18RPiwJj/edr2gV78zirAiY/9SmYvia+kCg=</td>\n",
       "      <td>BBzumQNXUHKdEBOB7mAJuzok+IJA1c2Ryg/yzTF6tik=</td>\n",
       "      <td>explore</td>\n",
       "      <td>Explore</td>\n",
       "      <td>online-playlist</td>\n",
       "      <td>1</td>\n",
       "    </tr>\n",
       "    <tr>\n",
       "      <th>1</th>\n",
       "      <td>Xumu+NIjS6QYVxDS4/t3SawvJ7viT9hPKXmf0RtLNx8=</td>\n",
       "      <td>bhp/MpSNoqoxOIB+/l8WPqu6jldth4DIpCm3ayXnJqM=</td>\n",
       "      <td>my library</td>\n",
       "      <td>Local playlist more</td>\n",
       "      <td>local-playlist</td>\n",
       "      <td>1</td>\n",
       "    </tr>\n",
       "    <tr>\n",
       "      <th>2</th>\n",
       "      <td>Xumu+NIjS6QYVxDS4/t3SawvJ7viT9hPKXmf0RtLNx8=</td>\n",
       "      <td>JNWfrrC7zNN7BdMpsISKa4Mw+xVJYNnxXh3/Epw7QgY=</td>\n",
       "      <td>my library</td>\n",
       "      <td>Local playlist more</td>\n",
       "      <td>local-playlist</td>\n",
       "      <td>1</td>\n",
       "    </tr>\n",
       "    <tr>\n",
       "      <th>3</th>\n",
       "      <td>Xumu+NIjS6QYVxDS4/t3SawvJ7viT9hPKXmf0RtLNx8=</td>\n",
       "      <td>2A87tzfnJTSWqD7gIZHisolhe4DMdzkbd6LzO1KHjNs=</td>\n",
       "      <td>my library</td>\n",
       "      <td>Local playlist more</td>\n",
       "      <td>local-playlist</td>\n",
       "      <td>1</td>\n",
       "    </tr>\n",
       "    <tr>\n",
       "      <th>4</th>\n",
       "      <td>FGtllVqz18RPiwJj/edr2gV78zirAiY/9SmYvia+kCg=</td>\n",
       "      <td>3qm6XTZ6MOCU11x8FIVbAGH5l5uMkT3/ZalWG1oo2Gc=</td>\n",
       "      <td>explore</td>\n",
       "      <td>Explore</td>\n",
       "      <td>online-playlist</td>\n",
       "      <td>1</td>\n",
       "    </tr>\n",
       "  </tbody>\n",
       "</table>\n",
       "</div>"
      ],
      "text/plain": [
       "                                           msno  \\\n",
       "0  FGtllVqz18RPiwJj/edr2gV78zirAiY/9SmYvia+kCg=   \n",
       "1  Xumu+NIjS6QYVxDS4/t3SawvJ7viT9hPKXmf0RtLNx8=   \n",
       "2  Xumu+NIjS6QYVxDS4/t3SawvJ7viT9hPKXmf0RtLNx8=   \n",
       "3  Xumu+NIjS6QYVxDS4/t3SawvJ7viT9hPKXmf0RtLNx8=   \n",
       "4  FGtllVqz18RPiwJj/edr2gV78zirAiY/9SmYvia+kCg=   \n",
       "\n",
       "                                        song_id source_system_tab  \\\n",
       "0  BBzumQNXUHKdEBOB7mAJuzok+IJA1c2Ryg/yzTF6tik=           explore   \n",
       "1  bhp/MpSNoqoxOIB+/l8WPqu6jldth4DIpCm3ayXnJqM=        my library   \n",
       "2  JNWfrrC7zNN7BdMpsISKa4Mw+xVJYNnxXh3/Epw7QgY=        my library   \n",
       "3  2A87tzfnJTSWqD7gIZHisolhe4DMdzkbd6LzO1KHjNs=        my library   \n",
       "4  3qm6XTZ6MOCU11x8FIVbAGH5l5uMkT3/ZalWG1oo2Gc=           explore   \n",
       "\n",
       "    source_screen_name      source_type  target  \n",
       "0              Explore  online-playlist       1  \n",
       "1  Local playlist more   local-playlist       1  \n",
       "2  Local playlist more   local-playlist       1  \n",
       "3  Local playlist more   local-playlist       1  \n",
       "4              Explore  online-playlist       1  "
      ]
     },
     "execution_count": 5,
     "metadata": {},
     "output_type": "execute_result"
    }
   ],
   "source": [
    "train_data.head()"
   ]
  },
  {
   "cell_type": "code",
   "execution_count": 6,
   "id": "6d74bbb1",
   "metadata": {},
   "outputs": [
    {
     "data": {
      "text/html": [
       "<div>\n",
       "<style scoped>\n",
       "    .dataframe tbody tr th:only-of-type {\n",
       "        vertical-align: middle;\n",
       "    }\n",
       "\n",
       "    .dataframe tbody tr th {\n",
       "        vertical-align: top;\n",
       "    }\n",
       "\n",
       "    .dataframe thead th {\n",
       "        text-align: right;\n",
       "    }\n",
       "</style>\n",
       "<table border=\"1\" class=\"dataframe\">\n",
       "  <thead>\n",
       "    <tr style=\"text-align: right;\">\n",
       "      <th></th>\n",
       "      <th>id</th>\n",
       "      <th>msno</th>\n",
       "      <th>song_id</th>\n",
       "      <th>source_system_tab</th>\n",
       "      <th>source_screen_name</th>\n",
       "      <th>source_type</th>\n",
       "    </tr>\n",
       "  </thead>\n",
       "  <tbody>\n",
       "    <tr>\n",
       "      <th>0</th>\n",
       "      <td>0</td>\n",
       "      <td>V8ruy7SGk7tDm3zA51DPpn6qutt+vmKMBKa21dp54uM=</td>\n",
       "      <td>WmHKgKMlp1lQMecNdNvDMkvIycZYHnFwDT72I5sIssc=</td>\n",
       "      <td>my library</td>\n",
       "      <td>Local playlist more</td>\n",
       "      <td>local-library</td>\n",
       "    </tr>\n",
       "    <tr>\n",
       "      <th>1</th>\n",
       "      <td>1</td>\n",
       "      <td>V8ruy7SGk7tDm3zA51DPpn6qutt+vmKMBKa21dp54uM=</td>\n",
       "      <td>y/rsZ9DC7FwK5F2PK2D5mj+aOBUJAjuu3dZ14NgE0vM=</td>\n",
       "      <td>my library</td>\n",
       "      <td>Local playlist more</td>\n",
       "      <td>local-library</td>\n",
       "    </tr>\n",
       "    <tr>\n",
       "      <th>2</th>\n",
       "      <td>2</td>\n",
       "      <td>/uQAlrAkaczV+nWCd2sPF2ekvXPRipV7q0l+gbLuxjw=</td>\n",
       "      <td>8eZLFOdGVdXBSqoAv5nsLigeH2BvKXzTQYtUM53I0k4=</td>\n",
       "      <td>discover</td>\n",
       "      <td>NaN</td>\n",
       "      <td>song-based-playlist</td>\n",
       "    </tr>\n",
       "    <tr>\n",
       "      <th>3</th>\n",
       "      <td>3</td>\n",
       "      <td>1a6oo/iXKatxQx4eS9zTVD+KlSVaAFbTIqVvwLC1Y0k=</td>\n",
       "      <td>ztCf8thYsS4YN3GcIL/bvoxLm/T5mYBVKOO4C9NiVfQ=</td>\n",
       "      <td>radio</td>\n",
       "      <td>Radio</td>\n",
       "      <td>radio</td>\n",
       "    </tr>\n",
       "    <tr>\n",
       "      <th>4</th>\n",
       "      <td>4</td>\n",
       "      <td>1a6oo/iXKatxQx4eS9zTVD+KlSVaAFbTIqVvwLC1Y0k=</td>\n",
       "      <td>MKVMpslKcQhMaFEgcEQhEfi5+RZhMYlU3eRDpySrH8Y=</td>\n",
       "      <td>radio</td>\n",
       "      <td>Radio</td>\n",
       "      <td>radio</td>\n",
       "    </tr>\n",
       "  </tbody>\n",
       "</table>\n",
       "</div>"
      ],
      "text/plain": [
       "   id                                          msno  \\\n",
       "0   0  V8ruy7SGk7tDm3zA51DPpn6qutt+vmKMBKa21dp54uM=   \n",
       "1   1  V8ruy7SGk7tDm3zA51DPpn6qutt+vmKMBKa21dp54uM=   \n",
       "2   2  /uQAlrAkaczV+nWCd2sPF2ekvXPRipV7q0l+gbLuxjw=   \n",
       "3   3  1a6oo/iXKatxQx4eS9zTVD+KlSVaAFbTIqVvwLC1Y0k=   \n",
       "4   4  1a6oo/iXKatxQx4eS9zTVD+KlSVaAFbTIqVvwLC1Y0k=   \n",
       "\n",
       "                                        song_id source_system_tab  \\\n",
       "0  WmHKgKMlp1lQMecNdNvDMkvIycZYHnFwDT72I5sIssc=        my library   \n",
       "1  y/rsZ9DC7FwK5F2PK2D5mj+aOBUJAjuu3dZ14NgE0vM=        my library   \n",
       "2  8eZLFOdGVdXBSqoAv5nsLigeH2BvKXzTQYtUM53I0k4=          discover   \n",
       "3  ztCf8thYsS4YN3GcIL/bvoxLm/T5mYBVKOO4C9NiVfQ=             radio   \n",
       "4  MKVMpslKcQhMaFEgcEQhEfi5+RZhMYlU3eRDpySrH8Y=             radio   \n",
       "\n",
       "    source_screen_name          source_type  \n",
       "0  Local playlist more        local-library  \n",
       "1  Local playlist more        local-library  \n",
       "2                  NaN  song-based-playlist  \n",
       "3                Radio                radio  \n",
       "4                Radio                radio  "
      ]
     },
     "execution_count": 6,
     "metadata": {},
     "output_type": "execute_result"
    }
   ],
   "source": [
    "test_data.head()"
   ]
  },
  {
   "cell_type": "code",
   "execution_count": 7,
   "id": "911cce54",
   "metadata": {},
   "outputs": [
    {
     "data": {
      "text/html": [
       "<div>\n",
       "<style scoped>\n",
       "    .dataframe tbody tr th:only-of-type {\n",
       "        vertical-align: middle;\n",
       "    }\n",
       "\n",
       "    .dataframe tbody tr th {\n",
       "        vertical-align: top;\n",
       "    }\n",
       "\n",
       "    .dataframe thead th {\n",
       "        text-align: right;\n",
       "    }\n",
       "</style>\n",
       "<table border=\"1\" class=\"dataframe\">\n",
       "  <thead>\n",
       "    <tr style=\"text-align: right;\">\n",
       "      <th></th>\n",
       "      <th>song_id</th>\n",
       "      <th>song_length</th>\n",
       "      <th>genre_ids</th>\n",
       "      <th>artist_name</th>\n",
       "      <th>composer</th>\n",
       "      <th>lyricist</th>\n",
       "      <th>language</th>\n",
       "    </tr>\n",
       "  </thead>\n",
       "  <tbody>\n",
       "    <tr>\n",
       "      <th>0</th>\n",
       "      <td>CXoTN1eb7AI+DntdU1vbcwGRV4SCIDxZu+YD8JP8r4E=</td>\n",
       "      <td>247640</td>\n",
       "      <td>465</td>\n",
       "      <td>張信哲 (Jeff Chang)</td>\n",
       "      <td>董貞</td>\n",
       "      <td>何啟弘</td>\n",
       "      <td>3.0</td>\n",
       "    </tr>\n",
       "    <tr>\n",
       "      <th>1</th>\n",
       "      <td>o0kFgae9QtnYgRkVPqLJwa05zIhRlUjfF7O1tDw0ZDU=</td>\n",
       "      <td>197328</td>\n",
       "      <td>444</td>\n",
       "      <td>BLACKPINK</td>\n",
       "      <td>TEDDY|  FUTURE BOUNCE|  Bekuh BOOM</td>\n",
       "      <td>TEDDY</td>\n",
       "      <td>31.0</td>\n",
       "    </tr>\n",
       "    <tr>\n",
       "      <th>2</th>\n",
       "      <td>DwVvVurfpuz+XPuFvucclVQEyPqcpUkHR0ne1RQzPs0=</td>\n",
       "      <td>231781</td>\n",
       "      <td>465</td>\n",
       "      <td>SUPER JUNIOR</td>\n",
       "      <td>NaN</td>\n",
       "      <td>NaN</td>\n",
       "      <td>31.0</td>\n",
       "    </tr>\n",
       "    <tr>\n",
       "      <th>3</th>\n",
       "      <td>dKMBWoZyScdxSkihKG+Vf47nc18N9q4m58+b4e7dSSE=</td>\n",
       "      <td>273554</td>\n",
       "      <td>465</td>\n",
       "      <td>S.H.E</td>\n",
       "      <td>湯小康</td>\n",
       "      <td>徐世珍</td>\n",
       "      <td>3.0</td>\n",
       "    </tr>\n",
       "    <tr>\n",
       "      <th>4</th>\n",
       "      <td>W3bqWd3T+VeHFzHAUfARgW9AvVRaF4N5Yzm4Mr6Eo/o=</td>\n",
       "      <td>140329</td>\n",
       "      <td>726</td>\n",
       "      <td>貴族精選</td>\n",
       "      <td>Traditional</td>\n",
       "      <td>Traditional</td>\n",
       "      <td>52.0</td>\n",
       "    </tr>\n",
       "  </tbody>\n",
       "</table>\n",
       "</div>"
      ],
      "text/plain": [
       "                                        song_id  song_length genre_ids  \\\n",
       "0  CXoTN1eb7AI+DntdU1vbcwGRV4SCIDxZu+YD8JP8r4E=       247640       465   \n",
       "1  o0kFgae9QtnYgRkVPqLJwa05zIhRlUjfF7O1tDw0ZDU=       197328       444   \n",
       "2  DwVvVurfpuz+XPuFvucclVQEyPqcpUkHR0ne1RQzPs0=       231781       465   \n",
       "3  dKMBWoZyScdxSkihKG+Vf47nc18N9q4m58+b4e7dSSE=       273554       465   \n",
       "4  W3bqWd3T+VeHFzHAUfARgW9AvVRaF4N5Yzm4Mr6Eo/o=       140329       726   \n",
       "\n",
       "        artist_name                            composer     lyricist  language  \n",
       "0  張信哲 (Jeff Chang)                                  董貞          何啟弘       3.0  \n",
       "1         BLACKPINK  TEDDY|  FUTURE BOUNCE|  Bekuh BOOM        TEDDY      31.0  \n",
       "2      SUPER JUNIOR                                 NaN          NaN      31.0  \n",
       "3             S.H.E                                 湯小康          徐世珍       3.0  \n",
       "4              貴族精選                         Traditional  Traditional      52.0  "
      ]
     },
     "execution_count": 7,
     "metadata": {},
     "output_type": "execute_result"
    }
   ],
   "source": [
    "songs_data.head()"
   ]
  },
  {
   "cell_type": "code",
   "execution_count": 8,
   "id": "62607f48",
   "metadata": {},
   "outputs": [
    {
     "data": {
      "text/html": [
       "<div>\n",
       "<style scoped>\n",
       "    .dataframe tbody tr th:only-of-type {\n",
       "        vertical-align: middle;\n",
       "    }\n",
       "\n",
       "    .dataframe tbody tr th {\n",
       "        vertical-align: top;\n",
       "    }\n",
       "\n",
       "    .dataframe thead th {\n",
       "        text-align: right;\n",
       "    }\n",
       "</style>\n",
       "<table border=\"1\" class=\"dataframe\">\n",
       "  <thead>\n",
       "    <tr style=\"text-align: right;\">\n",
       "      <th></th>\n",
       "      <th>msno</th>\n",
       "      <th>city</th>\n",
       "      <th>bd</th>\n",
       "      <th>gender</th>\n",
       "      <th>registered_via</th>\n",
       "      <th>registration_init_time</th>\n",
       "      <th>expiration_date</th>\n",
       "    </tr>\n",
       "  </thead>\n",
       "  <tbody>\n",
       "    <tr>\n",
       "      <th>0</th>\n",
       "      <td>XQxgAYj3klVKjR3oxPPXYYFp4soD4TuBghkhMTD4oTw=</td>\n",
       "      <td>1</td>\n",
       "      <td>0</td>\n",
       "      <td>NaN</td>\n",
       "      <td>7</td>\n",
       "      <td>20110820</td>\n",
       "      <td>20170920</td>\n",
       "    </tr>\n",
       "    <tr>\n",
       "      <th>1</th>\n",
       "      <td>UizsfmJb9mV54qE9hCYyU07Va97c0lCRLEQX3ae+ztM=</td>\n",
       "      <td>1</td>\n",
       "      <td>0</td>\n",
       "      <td>NaN</td>\n",
       "      <td>7</td>\n",
       "      <td>20150628</td>\n",
       "      <td>20170622</td>\n",
       "    </tr>\n",
       "    <tr>\n",
       "      <th>2</th>\n",
       "      <td>D8nEhsIOBSoE6VthTaqDX8U6lqjJ7dLdr72mOyLya2A=</td>\n",
       "      <td>1</td>\n",
       "      <td>0</td>\n",
       "      <td>NaN</td>\n",
       "      <td>4</td>\n",
       "      <td>20160411</td>\n",
       "      <td>20170712</td>\n",
       "    </tr>\n",
       "    <tr>\n",
       "      <th>3</th>\n",
       "      <td>mCuD+tZ1hERA/o5GPqk38e041J8ZsBaLcu7nGoIIvhI=</td>\n",
       "      <td>1</td>\n",
       "      <td>0</td>\n",
       "      <td>NaN</td>\n",
       "      <td>9</td>\n",
       "      <td>20150906</td>\n",
       "      <td>20150907</td>\n",
       "    </tr>\n",
       "    <tr>\n",
       "      <th>4</th>\n",
       "      <td>q4HRBfVSssAFS9iRfxWrohxuk9kCYMKjHOEagUMV6rQ=</td>\n",
       "      <td>1</td>\n",
       "      <td>0</td>\n",
       "      <td>NaN</td>\n",
       "      <td>4</td>\n",
       "      <td>20170126</td>\n",
       "      <td>20170613</td>\n",
       "    </tr>\n",
       "  </tbody>\n",
       "</table>\n",
       "</div>"
      ],
      "text/plain": [
       "                                           msno  city  bd gender  \\\n",
       "0  XQxgAYj3klVKjR3oxPPXYYFp4soD4TuBghkhMTD4oTw=     1   0    NaN   \n",
       "1  UizsfmJb9mV54qE9hCYyU07Va97c0lCRLEQX3ae+ztM=     1   0    NaN   \n",
       "2  D8nEhsIOBSoE6VthTaqDX8U6lqjJ7dLdr72mOyLya2A=     1   0    NaN   \n",
       "3  mCuD+tZ1hERA/o5GPqk38e041J8ZsBaLcu7nGoIIvhI=     1   0    NaN   \n",
       "4  q4HRBfVSssAFS9iRfxWrohxuk9kCYMKjHOEagUMV6rQ=     1   0    NaN   \n",
       "\n",
       "   registered_via  registration_init_time  expiration_date  \n",
       "0               7                20110820         20170920  \n",
       "1               7                20150628         20170622  \n",
       "2               4                20160411         20170712  \n",
       "3               9                20150906         20150907  \n",
       "4               4                20170126         20170613  "
      ]
     },
     "execution_count": 8,
     "metadata": {},
     "output_type": "execute_result"
    }
   ],
   "source": [
    "members_data.head()"
   ]
  },
  {
   "cell_type": "code",
   "execution_count": 9,
   "id": "644a56a9",
   "metadata": {},
   "outputs": [
    {
     "data": {
      "text/html": [
       "<div>\n",
       "<style scoped>\n",
       "    .dataframe tbody tr th:only-of-type {\n",
       "        vertical-align: middle;\n",
       "    }\n",
       "\n",
       "    .dataframe tbody tr th {\n",
       "        vertical-align: top;\n",
       "    }\n",
       "\n",
       "    .dataframe thead th {\n",
       "        text-align: right;\n",
       "    }\n",
       "</style>\n",
       "<table border=\"1\" class=\"dataframe\">\n",
       "  <thead>\n",
       "    <tr style=\"text-align: right;\">\n",
       "      <th></th>\n",
       "      <th>song_id</th>\n",
       "      <th>name</th>\n",
       "      <th>isrc</th>\n",
       "    </tr>\n",
       "  </thead>\n",
       "  <tbody>\n",
       "    <tr>\n",
       "      <th>0</th>\n",
       "      <td>LP7pLJoJFBvyuUwvu+oLzjT+bI+UeBPURCecJsX1jjs=</td>\n",
       "      <td>我們</td>\n",
       "      <td>TWUM71200043</td>\n",
       "    </tr>\n",
       "    <tr>\n",
       "      <th>1</th>\n",
       "      <td>ClazTFnk6r0Bnuie44bocdNMM3rdlrq0bCGAsGUWcHE=</td>\n",
       "      <td>Let Me Love You</td>\n",
       "      <td>QMZSY1600015</td>\n",
       "    </tr>\n",
       "    <tr>\n",
       "      <th>2</th>\n",
       "      <td>u2ja/bZE3zhCGxvbbOB3zOoUjx27u40cf5g09UXMoKQ=</td>\n",
       "      <td>原諒我</td>\n",
       "      <td>TWA530887303</td>\n",
       "    </tr>\n",
       "    <tr>\n",
       "      <th>3</th>\n",
       "      <td>92Fqsy0+p6+RHe2EoLKjHahORHR1Kq1TBJoClW9v+Ts=</td>\n",
       "      <td>Classic</td>\n",
       "      <td>USSM11301446</td>\n",
       "    </tr>\n",
       "    <tr>\n",
       "      <th>4</th>\n",
       "      <td>0QFmz/+rJy1Q56C1DuYqT9hKKqi5TUqx0sN0IwvoHrw=</td>\n",
       "      <td>愛投羅網</td>\n",
       "      <td>TWA471306001</td>\n",
       "    </tr>\n",
       "  </tbody>\n",
       "</table>\n",
       "</div>"
      ],
      "text/plain": [
       "                                        song_id             name          isrc\n",
       "0  LP7pLJoJFBvyuUwvu+oLzjT+bI+UeBPURCecJsX1jjs=               我們  TWUM71200043\n",
       "1  ClazTFnk6r0Bnuie44bocdNMM3rdlrq0bCGAsGUWcHE=  Let Me Love You  QMZSY1600015\n",
       "2  u2ja/bZE3zhCGxvbbOB3zOoUjx27u40cf5g09UXMoKQ=              原諒我  TWA530887303\n",
       "3  92Fqsy0+p6+RHe2EoLKjHahORHR1Kq1TBJoClW9v+Ts=          Classic  USSM11301446\n",
       "4  0QFmz/+rJy1Q56C1DuYqT9hKKqi5TUqx0sN0IwvoHrw=             愛投羅網  TWA471306001"
      ]
     },
     "execution_count": 9,
     "metadata": {},
     "output_type": "execute_result"
    }
   ],
   "source": [
    "songs_info_data.head()"
   ]
  },
  {
   "cell_type": "markdown",
   "id": "7f642cf1",
   "metadata": {},
   "source": [
    "## Merging Data"
   ]
  },
  {
   "cell_type": "code",
   "execution_count": 10,
   "id": "859ff2a9",
   "metadata": {},
   "outputs": [],
   "source": [
    "data = pd.merge(train_data,members_data)\n",
    "df = pd.merge(songs_data,songs_info_data)\n",
    "data = pd.merge(data,df)\n"
   ]
  },
  {
   "cell_type": "markdown",
   "id": "bc95f801",
   "metadata": {},
   "source": [
    "## Information"
   ]
  },
  {
   "cell_type": "code",
   "execution_count": 11,
   "id": "d38bfb27",
   "metadata": {},
   "outputs": [
    {
     "data": {
      "text/html": [
       "<div>\n",
       "<style scoped>\n",
       "    .dataframe tbody tr th:only-of-type {\n",
       "        vertical-align: middle;\n",
       "    }\n",
       "\n",
       "    .dataframe tbody tr th {\n",
       "        vertical-align: top;\n",
       "    }\n",
       "\n",
       "    .dataframe thead th {\n",
       "        text-align: right;\n",
       "    }\n",
       "</style>\n",
       "<table border=\"1\" class=\"dataframe\">\n",
       "  <thead>\n",
       "    <tr style=\"text-align: right;\">\n",
       "      <th></th>\n",
       "      <th>msno</th>\n",
       "      <th>song_id</th>\n",
       "      <th>source_system_tab</th>\n",
       "      <th>source_screen_name</th>\n",
       "      <th>source_type</th>\n",
       "      <th>target</th>\n",
       "      <th>city</th>\n",
       "      <th>bd</th>\n",
       "      <th>gender</th>\n",
       "      <th>registered_via</th>\n",
       "      <th>registration_init_time</th>\n",
       "      <th>expiration_date</th>\n",
       "      <th>song_length</th>\n",
       "      <th>genre_ids</th>\n",
       "      <th>artist_name</th>\n",
       "      <th>composer</th>\n",
       "      <th>lyricist</th>\n",
       "      <th>language</th>\n",
       "      <th>name</th>\n",
       "      <th>isrc</th>\n",
       "    </tr>\n",
       "  </thead>\n",
       "  <tbody>\n",
       "    <tr>\n",
       "      <th>0</th>\n",
       "      <td>FGtllVqz18RPiwJj/edr2gV78zirAiY/9SmYvia+kCg=</td>\n",
       "      <td>BBzumQNXUHKdEBOB7mAJuzok+IJA1c2Ryg/yzTF6tik=</td>\n",
       "      <td>explore</td>\n",
       "      <td>Explore</td>\n",
       "      <td>online-playlist</td>\n",
       "      <td>1</td>\n",
       "      <td>1</td>\n",
       "      <td>0</td>\n",
       "      <td>NaN</td>\n",
       "      <td>7</td>\n",
       "      <td>20120102</td>\n",
       "      <td>20171005</td>\n",
       "      <td>206471</td>\n",
       "      <td>359</td>\n",
       "      <td>Bastille</td>\n",
       "      <td>Dan Smith| Mark Crew</td>\n",
       "      <td>NaN</td>\n",
       "      <td>52.0</td>\n",
       "      <td>Good Grief</td>\n",
       "      <td>GBUM71602854</td>\n",
       "    </tr>\n",
       "    <tr>\n",
       "      <th>1</th>\n",
       "      <td>pouJqjNRmZOnRNzzMWWkamTKkIGHyvhl/jo4HgbncnM=</td>\n",
       "      <td>BBzumQNXUHKdEBOB7mAJuzok+IJA1c2Ryg/yzTF6tik=</td>\n",
       "      <td>discover</td>\n",
       "      <td>Online playlist more</td>\n",
       "      <td>online-playlist</td>\n",
       "      <td>0</td>\n",
       "      <td>15</td>\n",
       "      <td>18</td>\n",
       "      <td>male</td>\n",
       "      <td>4</td>\n",
       "      <td>20151220</td>\n",
       "      <td>20170930</td>\n",
       "      <td>206471</td>\n",
       "      <td>359</td>\n",
       "      <td>Bastille</td>\n",
       "      <td>Dan Smith| Mark Crew</td>\n",
       "      <td>NaN</td>\n",
       "      <td>52.0</td>\n",
       "      <td>Good Grief</td>\n",
       "      <td>GBUM71602854</td>\n",
       "    </tr>\n",
       "    <tr>\n",
       "      <th>2</th>\n",
       "      <td>xbodnNBaLMyqqI7uFJlvHOKMJaizuWo/BB/YHZICcKo=</td>\n",
       "      <td>BBzumQNXUHKdEBOB7mAJuzok+IJA1c2Ryg/yzTF6tik=</td>\n",
       "      <td>my library</td>\n",
       "      <td>Local playlist more</td>\n",
       "      <td>local-library</td>\n",
       "      <td>1</td>\n",
       "      <td>1</td>\n",
       "      <td>0</td>\n",
       "      <td>NaN</td>\n",
       "      <td>7</td>\n",
       "      <td>20120804</td>\n",
       "      <td>20171004</td>\n",
       "      <td>206471</td>\n",
       "      <td>359</td>\n",
       "      <td>Bastille</td>\n",
       "      <td>Dan Smith| Mark Crew</td>\n",
       "      <td>NaN</td>\n",
       "      <td>52.0</td>\n",
       "      <td>Good Grief</td>\n",
       "      <td>GBUM71602854</td>\n",
       "    </tr>\n",
       "    <tr>\n",
       "      <th>3</th>\n",
       "      <td>s0ndDsjI79amU0RBiullFN8HRz9HjE++34jGNa7zJ/s=</td>\n",
       "      <td>BBzumQNXUHKdEBOB7mAJuzok+IJA1c2Ryg/yzTF6tik=</td>\n",
       "      <td>my library</td>\n",
       "      <td>Local playlist more</td>\n",
       "      <td>local-library</td>\n",
       "      <td>1</td>\n",
       "      <td>5</td>\n",
       "      <td>21</td>\n",
       "      <td>female</td>\n",
       "      <td>9</td>\n",
       "      <td>20110808</td>\n",
       "      <td>20170917</td>\n",
       "      <td>206471</td>\n",
       "      <td>359</td>\n",
       "      <td>Bastille</td>\n",
       "      <td>Dan Smith| Mark Crew</td>\n",
       "      <td>NaN</td>\n",
       "      <td>52.0</td>\n",
       "      <td>Good Grief</td>\n",
       "      <td>GBUM71602854</td>\n",
       "    </tr>\n",
       "    <tr>\n",
       "      <th>4</th>\n",
       "      <td>Vw4Umh6/qlsJDC/XMslyAxVvRgFJGHr53yb/nrmY1DU=</td>\n",
       "      <td>BBzumQNXUHKdEBOB7mAJuzok+IJA1c2Ryg/yzTF6tik=</td>\n",
       "      <td>my library</td>\n",
       "      <td>Local playlist more</td>\n",
       "      <td>local-library</td>\n",
       "      <td>0</td>\n",
       "      <td>6</td>\n",
       "      <td>33</td>\n",
       "      <td>female</td>\n",
       "      <td>9</td>\n",
       "      <td>20070323</td>\n",
       "      <td>20170915</td>\n",
       "      <td>206471</td>\n",
       "      <td>359</td>\n",
       "      <td>Bastille</td>\n",
       "      <td>Dan Smith| Mark Crew</td>\n",
       "      <td>NaN</td>\n",
       "      <td>52.0</td>\n",
       "      <td>Good Grief</td>\n",
       "      <td>GBUM71602854</td>\n",
       "    </tr>\n",
       "  </tbody>\n",
       "</table>\n",
       "</div>"
      ],
      "text/plain": [
       "                                           msno  \\\n",
       "0  FGtllVqz18RPiwJj/edr2gV78zirAiY/9SmYvia+kCg=   \n",
       "1  pouJqjNRmZOnRNzzMWWkamTKkIGHyvhl/jo4HgbncnM=   \n",
       "2  xbodnNBaLMyqqI7uFJlvHOKMJaizuWo/BB/YHZICcKo=   \n",
       "3  s0ndDsjI79amU0RBiullFN8HRz9HjE++34jGNa7zJ/s=   \n",
       "4  Vw4Umh6/qlsJDC/XMslyAxVvRgFJGHr53yb/nrmY1DU=   \n",
       "\n",
       "                                        song_id source_system_tab  \\\n",
       "0  BBzumQNXUHKdEBOB7mAJuzok+IJA1c2Ryg/yzTF6tik=           explore   \n",
       "1  BBzumQNXUHKdEBOB7mAJuzok+IJA1c2Ryg/yzTF6tik=          discover   \n",
       "2  BBzumQNXUHKdEBOB7mAJuzok+IJA1c2Ryg/yzTF6tik=        my library   \n",
       "3  BBzumQNXUHKdEBOB7mAJuzok+IJA1c2Ryg/yzTF6tik=        my library   \n",
       "4  BBzumQNXUHKdEBOB7mAJuzok+IJA1c2Ryg/yzTF6tik=        my library   \n",
       "\n",
       "     source_screen_name      source_type  target  city  bd  gender  \\\n",
       "0               Explore  online-playlist       1     1   0     NaN   \n",
       "1  Online playlist more  online-playlist       0    15  18    male   \n",
       "2   Local playlist more    local-library       1     1   0     NaN   \n",
       "3   Local playlist more    local-library       1     5  21  female   \n",
       "4   Local playlist more    local-library       0     6  33  female   \n",
       "\n",
       "   registered_via  registration_init_time  expiration_date  song_length  \\\n",
       "0               7                20120102         20171005       206471   \n",
       "1               4                20151220         20170930       206471   \n",
       "2               7                20120804         20171004       206471   \n",
       "3               9                20110808         20170917       206471   \n",
       "4               9                20070323         20170915       206471   \n",
       "\n",
       "  genre_ids artist_name              composer lyricist  language        name  \\\n",
       "0       359    Bastille  Dan Smith| Mark Crew      NaN      52.0  Good Grief   \n",
       "1       359    Bastille  Dan Smith| Mark Crew      NaN      52.0  Good Grief   \n",
       "2       359    Bastille  Dan Smith| Mark Crew      NaN      52.0  Good Grief   \n",
       "3       359    Bastille  Dan Smith| Mark Crew      NaN      52.0  Good Grief   \n",
       "4       359    Bastille  Dan Smith| Mark Crew      NaN      52.0  Good Grief   \n",
       "\n",
       "           isrc  \n",
       "0  GBUM71602854  \n",
       "1  GBUM71602854  \n",
       "2  GBUM71602854  \n",
       "3  GBUM71602854  \n",
       "4  GBUM71602854  "
      ]
     },
     "execution_count": 11,
     "metadata": {},
     "output_type": "execute_result"
    }
   ],
   "source": [
    "data.head()"
   ]
  },
  {
   "cell_type": "code",
   "execution_count": 12,
   "id": "062c2512",
   "metadata": {},
   "outputs": [
    {
     "data": {
      "text/plain": [
       "(7375849, 20)"
      ]
     },
     "execution_count": 12,
     "metadata": {},
     "output_type": "execute_result"
    }
   ],
   "source": [
    "data.shape"
   ]
  },
  {
   "cell_type": "code",
   "execution_count": 13,
   "id": "9d967c02",
   "metadata": {},
   "outputs": [
    {
     "name": "stdout",
     "output_type": "stream",
     "text": [
      "<class 'pandas.core.frame.DataFrame'>\n",
      "Int64Index: 7375849 entries, 0 to 7375848\n",
      "Data columns (total 20 columns):\n",
      " #   Column                  Dtype  \n",
      "---  ------                  -----  \n",
      " 0   msno                    object \n",
      " 1   song_id                 object \n",
      " 2   source_system_tab       object \n",
      " 3   source_screen_name      object \n",
      " 4   source_type             object \n",
      " 5   target                  int64  \n",
      " 6   city                    int64  \n",
      " 7   bd                      int64  \n",
      " 8   gender                  object \n",
      " 9   registered_via          int64  \n",
      " 10  registration_init_time  int64  \n",
      " 11  expiration_date         int64  \n",
      " 12  song_length             int64  \n",
      " 13  genre_ids               object \n",
      " 14  artist_name             object \n",
      " 15  composer                object \n",
      " 16  lyricist                object \n",
      " 17  language                float64\n",
      " 18  name                    object \n",
      " 19  isrc                    object \n",
      "dtypes: float64(1), int64(7), object(12)\n",
      "memory usage: 1.2+ GB\n"
     ]
    }
   ],
   "source": [
    "data.info()"
   ]
  },
  {
   "cell_type": "code",
   "execution_count": 14,
   "id": "40ab20ef",
   "metadata": {},
   "outputs": [
    {
     "data": {
      "text/html": [
       "<div>\n",
       "<style scoped>\n",
       "    .dataframe tbody tr th:only-of-type {\n",
       "        vertical-align: middle;\n",
       "    }\n",
       "\n",
       "    .dataframe tbody tr th {\n",
       "        vertical-align: top;\n",
       "    }\n",
       "\n",
       "    .dataframe thead th {\n",
       "        text-align: right;\n",
       "    }\n",
       "</style>\n",
       "<table border=\"1\" class=\"dataframe\">\n",
       "  <thead>\n",
       "    <tr style=\"text-align: right;\">\n",
       "      <th></th>\n",
       "      <th>target</th>\n",
       "      <th>city</th>\n",
       "      <th>bd</th>\n",
       "      <th>registered_via</th>\n",
       "      <th>registration_init_time</th>\n",
       "      <th>expiration_date</th>\n",
       "      <th>song_length</th>\n",
       "      <th>language</th>\n",
       "    </tr>\n",
       "  </thead>\n",
       "  <tbody>\n",
       "    <tr>\n",
       "      <th>count</th>\n",
       "      <td>7.375849e+06</td>\n",
       "      <td>7.375849e+06</td>\n",
       "      <td>7.375849e+06</td>\n",
       "      <td>7.375849e+06</td>\n",
       "      <td>7.375849e+06</td>\n",
       "      <td>7.375849e+06</td>\n",
       "      <td>7.375849e+06</td>\n",
       "      <td>7.375813e+06</td>\n",
       "    </tr>\n",
       "    <tr>\n",
       "      <th>mean</th>\n",
       "      <td>5.035420e-01</td>\n",
       "      <td>7.511470e+00</td>\n",
       "      <td>1.753920e+01</td>\n",
       "      <td>6.794075e+00</td>\n",
       "      <td>2.012810e+07</td>\n",
       "      <td>2.017157e+07</td>\n",
       "      <td>2.451213e+05</td>\n",
       "      <td>1.860810e+01</td>\n",
       "    </tr>\n",
       "    <tr>\n",
       "      <th>std</th>\n",
       "      <td>4.999875e-01</td>\n",
       "      <td>6.641632e+00</td>\n",
       "      <td>2.155224e+01</td>\n",
       "      <td>2.275785e+00</td>\n",
       "      <td>3.017261e+04</td>\n",
       "      <td>3.869916e+03</td>\n",
       "      <td>6.734491e+04</td>\n",
       "      <td>2.117688e+01</td>\n",
       "    </tr>\n",
       "    <tr>\n",
       "      <th>min</th>\n",
       "      <td>0.000000e+00</td>\n",
       "      <td>1.000000e+00</td>\n",
       "      <td>-4.300000e+01</td>\n",
       "      <td>3.000000e+00</td>\n",
       "      <td>2.004033e+07</td>\n",
       "      <td>1.970010e+07</td>\n",
       "      <td>1.393000e+03</td>\n",
       "      <td>-1.000000e+00</td>\n",
       "    </tr>\n",
       "    <tr>\n",
       "      <th>25%</th>\n",
       "      <td>0.000000e+00</td>\n",
       "      <td>1.000000e+00</td>\n",
       "      <td>0.000000e+00</td>\n",
       "      <td>4.000000e+00</td>\n",
       "      <td>2.011070e+07</td>\n",
       "      <td>2.017091e+07</td>\n",
       "      <td>2.147260e+05</td>\n",
       "      <td>3.000000e+00</td>\n",
       "    </tr>\n",
       "    <tr>\n",
       "      <th>50%</th>\n",
       "      <td>1.000000e+00</td>\n",
       "      <td>5.000000e+00</td>\n",
       "      <td>2.100000e+01</td>\n",
       "      <td>7.000000e+00</td>\n",
       "      <td>2.013102e+07</td>\n",
       "      <td>2.017093e+07</td>\n",
       "      <td>2.418120e+05</td>\n",
       "      <td>3.000000e+00</td>\n",
       "    </tr>\n",
       "    <tr>\n",
       "      <th>75%</th>\n",
       "      <td>1.000000e+00</td>\n",
       "      <td>1.300000e+01</td>\n",
       "      <td>2.900000e+01</td>\n",
       "      <td>9.000000e+00</td>\n",
       "      <td>2.015102e+07</td>\n",
       "      <td>2.017101e+07</td>\n",
       "      <td>2.721690e+05</td>\n",
       "      <td>5.200000e+01</td>\n",
       "    </tr>\n",
       "    <tr>\n",
       "      <th>max</th>\n",
       "      <td>1.000000e+00</td>\n",
       "      <td>2.200000e+01</td>\n",
       "      <td>1.051000e+03</td>\n",
       "      <td>1.300000e+01</td>\n",
       "      <td>2.017013e+07</td>\n",
       "      <td>2.020102e+07</td>\n",
       "      <td>1.085171e+07</td>\n",
       "      <td>5.900000e+01</td>\n",
       "    </tr>\n",
       "  </tbody>\n",
       "</table>\n",
       "</div>"
      ],
      "text/plain": [
       "             target          city            bd  registered_via  \\\n",
       "count  7.375849e+06  7.375849e+06  7.375849e+06    7.375849e+06   \n",
       "mean   5.035420e-01  7.511470e+00  1.753920e+01    6.794075e+00   \n",
       "std    4.999875e-01  6.641632e+00  2.155224e+01    2.275785e+00   \n",
       "min    0.000000e+00  1.000000e+00 -4.300000e+01    3.000000e+00   \n",
       "25%    0.000000e+00  1.000000e+00  0.000000e+00    4.000000e+00   \n",
       "50%    1.000000e+00  5.000000e+00  2.100000e+01    7.000000e+00   \n",
       "75%    1.000000e+00  1.300000e+01  2.900000e+01    9.000000e+00   \n",
       "max    1.000000e+00  2.200000e+01  1.051000e+03    1.300000e+01   \n",
       "\n",
       "       registration_init_time  expiration_date   song_length      language  \n",
       "count            7.375849e+06     7.375849e+06  7.375849e+06  7.375813e+06  \n",
       "mean             2.012810e+07     2.017157e+07  2.451213e+05  1.860810e+01  \n",
       "std              3.017261e+04     3.869916e+03  6.734491e+04  2.117688e+01  \n",
       "min              2.004033e+07     1.970010e+07  1.393000e+03 -1.000000e+00  \n",
       "25%              2.011070e+07     2.017091e+07  2.147260e+05  3.000000e+00  \n",
       "50%              2.013102e+07     2.017093e+07  2.418120e+05  3.000000e+00  \n",
       "75%              2.015102e+07     2.017101e+07  2.721690e+05  5.200000e+01  \n",
       "max              2.017013e+07     2.020102e+07  1.085171e+07  5.900000e+01  "
      ]
     },
     "execution_count": 14,
     "metadata": {},
     "output_type": "execute_result"
    }
   ],
   "source": [
    "data.describe()"
   ]
  },
  {
   "cell_type": "markdown",
   "id": "56a89f4c",
   "metadata": {},
   "source": [
    "# Missing Value Problem"
   ]
  },
  {
   "cell_type": "code",
   "execution_count": 15,
   "id": "b16254a7",
   "metadata": {},
   "outputs": [
    {
     "data": {
      "text/plain": [
       "msno                            0\n",
       "song_id                         0\n",
       "source_system_tab           24843\n",
       "source_screen_name         414701\n",
       "source_type                 21535\n",
       "target                          0\n",
       "city                            0\n",
       "bd                              0\n",
       "gender                    2960803\n",
       "registered_via                  0\n",
       "registration_init_time          0\n",
       "expiration_date                 0\n",
       "song_length                     0\n",
       "genre_ids                  118337\n",
       "artist_name                     0\n",
       "composer                  1675125\n",
       "lyricist                  3177973\n",
       "language                       36\n",
       "name                            2\n",
       "isrc                       576394\n",
       "dtype: int64"
      ]
     },
     "execution_count": 15,
     "metadata": {},
     "output_type": "execute_result"
    }
   ],
   "source": [
    "data.isnull().sum()"
   ]
  },
  {
   "cell_type": "code",
   "execution_count": 16,
   "id": "bd71ddc5",
   "metadata": {},
   "outputs": [
    {
     "name": "stdout",
     "output_type": "stream",
     "text": [
      "Percentage of Missing values for each coloumn\n",
      "msno                       0.000000\n",
      "song_id                    0.000000\n",
      "source_system_tab          0.336815\n",
      "source_screen_name         5.622417\n",
      "source_type                0.291966\n",
      "target                     0.000000\n",
      "city                       0.000000\n",
      "bd                         0.000000\n",
      "gender                    40.141860\n",
      "registered_via             0.000000\n",
      "registration_init_time     0.000000\n",
      "expiration_date            0.000000\n",
      "song_length                0.000000\n",
      "genre_ids                  1.604385\n",
      "artist_name                0.000000\n",
      "composer                  22.710945\n",
      "lyricist                  43.086199\n",
      "language                   0.000488\n",
      "name                       0.000027\n",
      "isrc                       7.814612\n",
      "dtype: float64\n"
     ]
    }
   ],
   "source": [
    "#percent of missing value in each coloumn\n",
    "print(\"Percentage of Missing values for each coloumn\")\n",
    "percent_missing = data.isnull().sum() * 100 / len(data)\n",
    "print(percent_missing)"
   ]
  },
  {
   "cell_type": "markdown",
   "id": "16257500",
   "metadata": {},
   "source": [
    "## Removing rows with missing values from coloumns Having less then 1% of missing value"
   ]
  },
  {
   "cell_type": "code",
   "execution_count": 17,
   "id": "2fd29022",
   "metadata": {},
   "outputs": [],
   "source": [
    "#removing missing value from coloumns having less than 1%\n",
    "data = data[(data.name.notna()) & (data.language.notna()) & (data.source_type.notna()) & (data.source_system_tab.notna())]"
   ]
  },
  {
   "cell_type": "code",
   "execution_count": 18,
   "id": "53ab9312",
   "metadata": {},
   "outputs": [
    {
     "data": {
      "text/plain": [
       "msno                            0\n",
       "song_id                         0\n",
       "source_system_tab               0\n",
       "source_screen_name         389837\n",
       "source_type                     0\n",
       "target                          0\n",
       "city                            0\n",
       "bd                              0\n",
       "gender                    2950908\n",
       "registered_via                  0\n",
       "registration_init_time          0\n",
       "expiration_date                 0\n",
       "song_length                     0\n",
       "genre_ids                  117911\n",
       "artist_name                     0\n",
       "composer                  1669225\n",
       "lyricist                  3166649\n",
       "language                        0\n",
       "name                            0\n",
       "isrc                       574302\n",
       "dtype: int64"
      ]
     },
     "execution_count": 18,
     "metadata": {},
     "output_type": "execute_result"
    }
   ],
   "source": [
    "data.isnull().sum()"
   ]
  },
  {
   "cell_type": "markdown",
   "id": "40b021ff",
   "metadata": {},
   "source": [
    "## imputing genre_ids coloumn using LOCF Method"
   ]
  },
  {
   "cell_type": "code",
   "execution_count": 19,
   "id": "2542b39a",
   "metadata": {},
   "outputs": [],
   "source": [
    "#imputing genre_ids coloumn on the basis of Last observation carried forward (LOCF) method.\n",
    "data[\"genre_ids\"] = data[\"genre_ids\"].fillna(method='ffill')"
   ]
  },
  {
   "cell_type": "markdown",
   "id": "48b92780",
   "metadata": {},
   "source": [
    "## imputing remaining coloumns with the unknown value"
   ]
  },
  {
   "cell_type": "code",
   "execution_count": 20,
   "id": "2158af94",
   "metadata": {},
   "outputs": [],
   "source": [
    "#imputing unknown value for rest of the missing values in data\n",
    "impute_constant = SimpleImputer(strategy='constant', fill_value='unknown')\n",
    "#coloumns in which the value is to be imputed\n",
    "impute_cols = ['lyricist', 'gender', 'composer', 'isrc', 'source_screen_name']\n",
    "data[impute_cols] = impute_constant.fit_transform(data[impute_cols])"
   ]
  },
  {
   "cell_type": "code",
   "execution_count": 21,
   "id": "03edefd7",
   "metadata": {},
   "outputs": [
    {
     "data": {
      "text/plain": [
       "0"
      ]
     },
     "execution_count": 21,
     "metadata": {},
     "output_type": "execute_result"
    }
   ],
   "source": [
    "#total missing values in the dataset\n",
    "data.isnull().sum().sum()"
   ]
  },
  {
   "cell_type": "markdown",
   "id": "9665da45",
   "metadata": {},
   "source": [
    "# Exploratory Data Analysis\n"
   ]
  },
  {
   "cell_type": "markdown",
   "id": "697b9bcb",
   "metadata": {},
   "source": [
    "## Detecting Outliers in Bd Coloumn"
   ]
  },
  {
   "cell_type": "code",
   "execution_count": 22,
   "id": "e9d321fa",
   "metadata": {},
   "outputs": [
    {
     "name": "stderr",
     "output_type": "stream",
     "text": [
      "C:\\Users\\92336\\anaconda3\\lib\\site-packages\\seaborn\\_decorators.py:36: FutureWarning: Pass the following variable as a keyword arg: x. From version 0.12, the only valid positional argument will be `data`, and passing other arguments without an explicit keyword will result in an error or misinterpretation.\n",
      "  warnings.warn(\n"
     ]
    },
    {
     "data": {
      "image/png": "[encoded data removed]",
      "text/plain": [
       "<Figure size 432x288 with 1 Axes>"
      ]
     },
     "metadata": {
      "needs_background": "light"
     },
     "output_type": "display_data"
    }
   ],
   "source": [
    "sns.boxplot(data['bd']);"
   ]
  },
  {
   "cell_type": "markdown",
   "id": "c581da98",
   "metadata": {},
   "source": [
    "## Treating outliers in bd coloumn"
   ]
  },
  {
   "cell_type": "code",
   "execution_count": 23,
   "id": "35ab6bf2",
   "metadata": {},
   "outputs": [],
   "source": [
    "q_low = data['bd'].quantile(0.01)\n",
    "q_hi  = data['bd'].quantile(0.99)\n",
    "\n",
    "df_filtered = data[(data['bd'] < q_hi) & (data['bd'] > q_low)]"
   ]
  },
  {
   "cell_type": "markdown",
   "id": "73409f0b",
   "metadata": {},
   "source": [
    "## Boxplot for Bd Coloumn after removing Outliers"
   ]
  },
  {
   "cell_type": "code",
   "execution_count": 24,
   "id": "38b5b291",
   "metadata": {},
   "outputs": [
    {
     "name": "stderr",
     "output_type": "stream",
     "text": [
      "C:\\Users\\92336\\anaconda3\\lib\\site-packages\\seaborn\\_decorators.py:36: FutureWarning: Pass the following variable as a keyword arg: x. From version 0.12, the only valid positional argument will be `data`, and passing other arguments without an explicit keyword will result in an error or misinterpretation.\n",
      "  warnings.warn(\n"
     ]
    },
    {
     "data": {
      "text/plain": [
       "<AxesSubplot:xlabel='bd'>"
      ]
     },
     "execution_count": 24,
     "metadata": {},
     "output_type": "execute_result"
    },
    {
     "data": {
      "image/png": "[encoded data removed]",
      "text/plain": [
       "<Figure size 432x288 with 1 Axes>"
      ]
     },
     "metadata": {
      "needs_background": "light"
     },
     "output_type": "display_data"
    }
   ],
   "source": [
    "sns.boxplot(df_filtered['bd'])"
   ]
  },
  {
   "cell_type": "markdown",
   "id": "04631b89",
   "metadata": {},
   "source": [
    "## Plotting Distribution of target Variable"
   ]
  },
  {
   "cell_type": "code",
   "execution_count": 25,
   "id": "705296f6",
   "metadata": {},
   "outputs": [
    {
     "data": {
      "image/png": "[encoded data removed]",
      "text/plain": [
       "<Figure size 432x288 with 1 Axes>"
      ]
     },
     "metadata": {
      "needs_background": "light"
     },
     "output_type": "display_data"
    }
   ],
   "source": [
    "plt.hist(df_filtered['target'], bins=10)  # Adjust the number of bins as needed\n",
    "plt.xlabel('Target Variable')\n",
    "plt.ylabel('Frequency')\n",
    "plt.title('Distribution of Target Variable')\n",
    "plt.show()"
   ]
  },
  {
   "cell_type": "markdown",
   "id": "9c24052b",
   "metadata": {},
   "source": [
    "## Plotting Distribution of Age"
   ]
  },
  {
   "cell_type": "code",
   "execution_count": 26,
   "id": "33c94552",
   "metadata": {},
   "outputs": [
    {
     "data": {
      "image/png": "[encoded data removed]",
      "text/plain": [
       "<Figure size 432x288 with 1 Axes>"
      ]
     },
     "metadata": {
      "needs_background": "light"
     },
     "output_type": "display_data"
    }
   ],
   "source": [
    "plt.hist(df_filtered['bd'], bins=10)  # Adjust the number of bins as needed\n",
    "plt.xlabel('Age')\n",
    "plt.ylabel('Frequency')\n",
    "plt.title('Distribution of Age Variable')\n",
    "plt.show()"
   ]
  },
  {
   "cell_type": "markdown",
   "id": "5c939593",
   "metadata": {},
   "source": [
    "## plotting distribution of gender"
   ]
  },
  {
   "cell_type": "code",
   "execution_count": 27,
   "id": "f20e0066",
   "metadata": {},
   "outputs": [
    {
     "data": {
      "image/png": "[encoded data removed]",
      "text/plain": [
       "<Figure size 432x288 with 1 Axes>"
      ]
     },
     "metadata": {
      "needs_background": "light"
     },
     "output_type": "display_data"
    }
   ],
   "source": [
    "plt.hist(df_filtered['gender'], bins=10)  # Adjust the number of bins as needed\n",
    "plt.xlabel('gender')\n",
    "plt.ylabel('Frequency')\n",
    "plt.title('Distribution of Gender Variable')\n",
    "plt.show()"
   ]
  },
  {
   "cell_type": "markdown",
   "id": "ced95658",
   "metadata": {},
   "source": [
    "## Language vs Target"
   ]
  },
  {
   "cell_type": "code",
   "execution_count": 28,
   "id": "ae5832db",
   "metadata": {},
   "outputs": [
    {
     "data": {
      "image/png": "[encoded data removed]",
      "text/plain": [
       "<Figure size 432x288 with 1 Axes>"
      ]
     },
     "metadata": {
      "needs_background": "light"
     },
     "output_type": "display_data"
    }
   ],
   "source": [
    "# Plot the count plot of 'language' vs 'target'\n",
    "sns.countplot(data=df_filtered, x='language', hue='target')\n",
    "plt.xlabel('Language')\n",
    "plt.ylabel('Count')\n",
    "plt.title('Distribution of Target Variable by Language')\n",
    "plt.legend(title='Target')\n",
    "plt.show()"
   ]
  },
  {
   "cell_type": "markdown",
   "id": "e3facc50",
   "metadata": {},
   "source": [
    "## Gender vs Target"
   ]
  },
  {
   "cell_type": "code",
   "execution_count": 29,
   "id": "5e4d83bc",
   "metadata": {},
   "outputs": [
    {
     "data": {
      "image/png": "[encoded data removed]",
      "text/plain": [
       "<Figure size 432x288 with 1 Axes>"
      ]
     },
     "metadata": {
      "needs_background": "light"
     },
     "output_type": "display_data"
    }
   ],
   "source": [
    "# Plot the count plot of 'gender' vs 'target'\n",
    "sns.countplot(data=df_filtered, x='gender', hue='target')\n",
    "plt.xlabel('gender')\n",
    "plt.ylabel('Count')\n",
    "plt.title('Distribution of Target Variable by gender')\n",
    "plt.legend(title='Target')\n",
    "plt.show()"
   ]
  },
  {
   "cell_type": "markdown",
   "id": "ed33e108",
   "metadata": {},
   "source": [
    "## City vs Target"
   ]
  },
  {
   "cell_type": "code",
   "execution_count": 30,
   "id": "fd58ecf0",
   "metadata": {},
   "outputs": [
    {
     "data": {
      "image/png": "[encoded data removed]",
      "text/plain": [
       "<Figure size 432x288 with 1 Axes>"
      ]
     },
     "metadata": {
      "needs_background": "light"
     },
     "output_type": "display_data"
    }
   ],
   "source": [
    "# Plot the count plot of 'city' vs 'target'\n",
    "sns.countplot(data=df_filtered, x='city', hue='target')\n",
    "plt.xlabel('city')\n",
    "plt.ylabel('Count')\n",
    "plt.title('Distribution of Target Variable by City')\n",
    "plt.legend(title='Target')\n",
    "plt.show()"
   ]
  },
  {
   "cell_type": "markdown",
   "id": "9dfd4f92",
   "metadata": {},
   "source": [
    "## Heatmap"
   ]
  },
  {
   "cell_type": "code",
   "execution_count": 31,
   "id": "273b22e7",
   "metadata": {
    "scrolled": true
   },
   "outputs": [
    {
     "data": {
      "text/plain": [
       "<AxesSubplot:>"
      ]
     },
     "execution_count": 31,
     "metadata": {},
     "output_type": "execute_result"
    },
    {
     "data": {
      "image/png": "[encoded data removed]",
      "text/plain": [
       "<Figure size 432x288 with 2 Axes>"
      ]
     },
     "metadata": {
      "needs_background": "light"
     },
     "output_type": "display_data"
    }
   ],
   "source": [
    "sns.heatmap(df_filtered.corr(),cmap=\"magma\")"
   ]
  },
  {
   "cell_type": "markdown",
   "id": "10de2bcb",
   "metadata": {},
   "source": [
    "# Data Preprocessing and Feature Engineering"
   ]
  },
  {
   "cell_type": "markdown",
   "id": "a2e3a021",
   "metadata": {},
   "source": [
    "## Reducing memory usage"
   ]
  },
  {
   "cell_type": "code",
   "execution_count": 34,
   "id": "80d9b1fd",
   "metadata": {},
   "outputs": [
    {
     "name": "stdout",
     "output_type": "stream",
     "text": [
      "Memory usage of dataframe is 694.59 MB\n",
      "Memory usage after optimization is: 254.03 MB\n",
      "Decreased by 63.4%\n"
     ]
    }
   ],
   "source": [
    "df_reduced_memory = reduce_mem_usage(df_filtered)"
   ]
  },
  {
   "cell_type": "code",
   "execution_count": 35,
   "id": "78e5e227",
   "metadata": {},
   "outputs": [
    {
     "data": {
      "text/html": [
       "<div>\n",
       "<style scoped>\n",
       "    .dataframe tbody tr th:only-of-type {\n",
       "        vertical-align: middle;\n",
       "    }\n",
       "\n",
       "    .dataframe tbody tr th {\n",
       "        vertical-align: top;\n",
       "    }\n",
       "\n",
       "    .dataframe thead th {\n",
       "        text-align: right;\n",
       "    }\n",
       "</style>\n",
       "<table border=\"1\" class=\"dataframe\">\n",
       "  <thead>\n",
       "    <tr style=\"text-align: right;\">\n",
       "      <th></th>\n",
       "      <th>msno</th>\n",
       "      <th>song_id</th>\n",
       "      <th>source_system_tab</th>\n",
       "      <th>source_screen_name</th>\n",
       "      <th>source_type</th>\n",
       "      <th>target</th>\n",
       "      <th>city</th>\n",
       "      <th>bd</th>\n",
       "      <th>gender</th>\n",
       "      <th>registered_via</th>\n",
       "      <th>registration_init_time</th>\n",
       "      <th>expiration_date</th>\n",
       "      <th>song_length</th>\n",
       "      <th>genre_ids</th>\n",
       "      <th>artist_name</th>\n",
       "      <th>composer</th>\n",
       "      <th>lyricist</th>\n",
       "      <th>language</th>\n",
       "      <th>name</th>\n",
       "      <th>isrc</th>\n",
       "    </tr>\n",
       "  </thead>\n",
       "  <tbody>\n",
       "    <tr>\n",
       "      <th>1</th>\n",
       "      <td>pouJqjNRmZOnRNzzMWWkamTKkIGHyvhl/jo4HgbncnM=</td>\n",
       "      <td>BBzumQNXUHKdEBOB7mAJuzok+IJA1c2Ryg/yzTF6tik=</td>\n",
       "      <td>discover</td>\n",
       "      <td>Online playlist more</td>\n",
       "      <td>online-playlist</td>\n",
       "      <td>0</td>\n",
       "      <td>15</td>\n",
       "      <td>18</td>\n",
       "      <td>male</td>\n",
       "      <td>4</td>\n",
       "      <td>20151220</td>\n",
       "      <td>20170930</td>\n",
       "      <td>206471</td>\n",
       "      <td>359</td>\n",
       "      <td>Bastille</td>\n",
       "      <td>Dan Smith| Mark Crew</td>\n",
       "      <td>unknown</td>\n",
       "      <td>52.0</td>\n",
       "      <td>Good Grief</td>\n",
       "      <td>GBUM71602854</td>\n",
       "    </tr>\n",
       "    <tr>\n",
       "      <th>3</th>\n",
       "      <td>s0ndDsjI79amU0RBiullFN8HRz9HjE++34jGNa7zJ/s=</td>\n",
       "      <td>BBzumQNXUHKdEBOB7mAJuzok+IJA1c2Ryg/yzTF6tik=</td>\n",
       "      <td>my library</td>\n",
       "      <td>Local playlist more</td>\n",
       "      <td>local-library</td>\n",
       "      <td>1</td>\n",
       "      <td>5</td>\n",
       "      <td>21</td>\n",
       "      <td>female</td>\n",
       "      <td>9</td>\n",
       "      <td>20110808</td>\n",
       "      <td>20170917</td>\n",
       "      <td>206471</td>\n",
       "      <td>359</td>\n",
       "      <td>Bastille</td>\n",
       "      <td>Dan Smith| Mark Crew</td>\n",
       "      <td>unknown</td>\n",
       "      <td>52.0</td>\n",
       "      <td>Good Grief</td>\n",
       "      <td>GBUM71602854</td>\n",
       "    </tr>\n",
       "    <tr>\n",
       "      <th>4</th>\n",
       "      <td>Vw4Umh6/qlsJDC/XMslyAxVvRgFJGHr53yb/nrmY1DU=</td>\n",
       "      <td>BBzumQNXUHKdEBOB7mAJuzok+IJA1c2Ryg/yzTF6tik=</td>\n",
       "      <td>my library</td>\n",
       "      <td>Local playlist more</td>\n",
       "      <td>local-library</td>\n",
       "      <td>0</td>\n",
       "      <td>6</td>\n",
       "      <td>33</td>\n",
       "      <td>female</td>\n",
       "      <td>9</td>\n",
       "      <td>20070323</td>\n",
       "      <td>20170915</td>\n",
       "      <td>206471</td>\n",
       "      <td>359</td>\n",
       "      <td>Bastille</td>\n",
       "      <td>Dan Smith| Mark Crew</td>\n",
       "      <td>unknown</td>\n",
       "      <td>52.0</td>\n",
       "      <td>Good Grief</td>\n",
       "      <td>GBUM71602854</td>\n",
       "    </tr>\n",
       "    <tr>\n",
       "      <th>5</th>\n",
       "      <td>YqtKhiDOFJ/gdd2V4AFdnVwGMMaA0yUEbb8w7xuoP7I=</td>\n",
       "      <td>BBzumQNXUHKdEBOB7mAJuzok+IJA1c2Ryg/yzTF6tik=</td>\n",
       "      <td>discover</td>\n",
       "      <td>Discover Chart</td>\n",
       "      <td>online-playlist</td>\n",
       "      <td>0</td>\n",
       "      <td>5</td>\n",
       "      <td>23</td>\n",
       "      <td>female</td>\n",
       "      <td>9</td>\n",
       "      <td>20141223</td>\n",
       "      <td>20171012</td>\n",
       "      <td>206471</td>\n",
       "      <td>359</td>\n",
       "      <td>Bastille</td>\n",
       "      <td>Dan Smith| Mark Crew</td>\n",
       "      <td>unknown</td>\n",
       "      <td>52.0</td>\n",
       "      <td>Good Grief</td>\n",
       "      <td>GBUM71602854</td>\n",
       "    </tr>\n",
       "    <tr>\n",
       "      <th>6</th>\n",
       "      <td>jGiECz8y+oKS0tDcZArJXK2ZQisBpk/OC3wh4kvs8gc=</td>\n",
       "      <td>BBzumQNXUHKdEBOB7mAJuzok+IJA1c2Ryg/yzTF6tik=</td>\n",
       "      <td>discover</td>\n",
       "      <td>Online playlist more</td>\n",
       "      <td>song-based-playlist</td>\n",
       "      <td>1</td>\n",
       "      <td>5</td>\n",
       "      <td>27</td>\n",
       "      <td>female</td>\n",
       "      <td>9</td>\n",
       "      <td>20140424</td>\n",
       "      <td>20180207</td>\n",
       "      <td>206471</td>\n",
       "      <td>359</td>\n",
       "      <td>Bastille</td>\n",
       "      <td>Dan Smith| Mark Crew</td>\n",
       "      <td>unknown</td>\n",
       "      <td>52.0</td>\n",
       "      <td>Good Grief</td>\n",
       "      <td>GBUM71602854</td>\n",
       "    </tr>\n",
       "  </tbody>\n",
       "</table>\n",
       "</div>"
      ],
      "text/plain": [
       "                                           msno  \\\n",
       "1  pouJqjNRmZOnRNzzMWWkamTKkIGHyvhl/jo4HgbncnM=   \n",
       "3  s0ndDsjI79amU0RBiullFN8HRz9HjE++34jGNa7zJ/s=   \n",
       "4  Vw4Umh6/qlsJDC/XMslyAxVvRgFJGHr53yb/nrmY1DU=   \n",
       "5  YqtKhiDOFJ/gdd2V4AFdnVwGMMaA0yUEbb8w7xuoP7I=   \n",
       "6  jGiECz8y+oKS0tDcZArJXK2ZQisBpk/OC3wh4kvs8gc=   \n",
       "\n",
       "                                        song_id source_system_tab  \\\n",
       "1  BBzumQNXUHKdEBOB7mAJuzok+IJA1c2Ryg/yzTF6tik=          discover   \n",
       "3  BBzumQNXUHKdEBOB7mAJuzok+IJA1c2Ryg/yzTF6tik=        my library   \n",
       "4  BBzumQNXUHKdEBOB7mAJuzok+IJA1c2Ryg/yzTF6tik=        my library   \n",
       "5  BBzumQNXUHKdEBOB7mAJuzok+IJA1c2Ryg/yzTF6tik=          discover   \n",
       "6  BBzumQNXUHKdEBOB7mAJuzok+IJA1c2Ryg/yzTF6tik=          discover   \n",
       "\n",
       "     source_screen_name          source_type  target  city  bd  gender  \\\n",
       "1  Online playlist more      online-playlist       0    15  18    male   \n",
       "3   Local playlist more        local-library       1     5  21  female   \n",
       "4   Local playlist more        local-library       0     6  33  female   \n",
       "5        Discover Chart      online-playlist       0     5  23  female   \n",
       "6  Online playlist more  song-based-playlist       1     5  27  female   \n",
       "\n",
       "   registered_via  registration_init_time  expiration_date  song_length  \\\n",
       "1               4                20151220         20170930       206471   \n",
       "3               9                20110808         20170917       206471   \n",
       "4               9                20070323         20170915       206471   \n",
       "5               9                20141223         20171012       206471   \n",
       "6               9                20140424         20180207       206471   \n",
       "\n",
       "  genre_ids artist_name              composer lyricist  language        name  \\\n",
       "1       359    Bastille  Dan Smith| Mark Crew  unknown      52.0  Good Grief   \n",
       "3       359    Bastille  Dan Smith| Mark Crew  unknown      52.0  Good Grief   \n",
       "4       359    Bastille  Dan Smith| Mark Crew  unknown      52.0  Good Grief   \n",
       "5       359    Bastille  Dan Smith| Mark Crew  unknown      52.0  Good Grief   \n",
       "6       359    Bastille  Dan Smith| Mark Crew  unknown      52.0  Good Grief   \n",
       "\n",
       "           isrc  \n",
       "1  GBUM71602854  \n",
       "3  GBUM71602854  \n",
       "4  GBUM71602854  \n",
       "5  GBUM71602854  \n",
       "6  GBUM71602854  "
      ]
     },
     "execution_count": 35,
     "metadata": {},
     "output_type": "execute_result"
    }
   ],
   "source": [
    "df_reduced_memory.head()"
   ]
  },
  {
   "cell_type": "code",
   "execution_count": 33,
   "id": "00e9b469",
   "metadata": {},
   "outputs": [],
   "source": [
    "def reduce_mem_usage(df):\n",
    "    \"\"\" iterate through all the columns of a dataframe and modify the data type\n",
    "        to reduce memory usage.        \n",
    "    \"\"\"\n",
    "    start_mem = df.memory_usage().sum() / 1024**2\n",
    "    print('Memory usage of dataframe is {:.2f} MB'.format(start_mem))\n",
    "    \n",
    "    for col in df.columns:\n",
    "        col_type = df[col].dtype\n",
    "        \n",
    "        if col_type != object:\n",
    "            c_min = df[col].min()\n",
    "            c_max = df[col].max()\n",
    "            if str(col_type)[:3] == 'int':\n",
    "                if c_min > np.iinfo(np.int8).min and c_max < np.iinfo(np.int8).max:\n",
    "                    df[col] = df[col].astype(np.int8)\n",
    "                elif c_min > np.iinfo(np.int16).min and c_max < np.iinfo(np.int16).max:\n",
    "                    df[col] = df[col].astype(np.int16)\n",
    "                elif c_min > np.iinfo(np.int32).min and c_max < np.iinfo(np.int32).max:\n",
    "                    df[col] = df[col].astype(np.int32)\n",
    "                elif c_min > np.iinfo(np.int64).min and c_max < np.iinfo(np.int64).max:\n",
    "                    df[col] = df[col].astype(np.int64)  \n",
    "            else:\n",
    "                if c_min > np.finfo(np.float16).min and c_max < np.finfo(np.float16).max:\n",
    "                    df[col] = df[col].astype(np.float16)\n",
    "                elif c_min > np.finfo(np.float32).min and c_max < np.finfo(np.float32).max:\n",
    "                    df[col] = df[col].astype(np.float32)\n",
    "                else:\n",
    "                    df[col] = df[col].astype(np.float64)\n",
    "        else:\n",
    "            df[col] = df[col].astype('category')\n",
    "\n",
    "    end_mem = df.memory_usage().sum() / 1024**2\n",
    "    print('Memory usage after optimization is: {:.2f} MB'.format(end_mem))\n",
    "    print('Decreased by {:.1f}%'.format(100 * (start_mem - end_mem) / start_mem))\n",
    "    \n",
    "    return df"
   ]
  },
  {
   "cell_type": "markdown",
   "id": "6643ba29",
   "metadata": {},
   "source": [
    "## Encoding Categorical Data"
   ]
  },
  {
   "cell_type": "code",
   "execution_count": 36,
   "id": "2f1a69b3",
   "metadata": {},
   "outputs": [],
   "source": [
    "## Encoding Categorical Data\n",
    "# Define your categorical columns to encode\n",
    "categorical_columns = [ 'genre_ids', 'artist_name', 'composer', \n",
    "        'lyricist', 'name', 'city', 'gender', 'registered_via', 'language']\n",
    "\n",
    "# Create an instance of LabelEncoder\n",
    "label_encoder = LabelEncoder()\n",
    "\n",
    "# Iterate over each categorical column and apply label encoding\n",
    "for column in categorical_columns:\n",
    "    df_reduced_memory[column + '_label_encoded'] = label_encoder.fit_transform(df_reduced_memory[column])\n"
   ]
  },
  {
   "cell_type": "markdown",
   "id": "342aab6f",
   "metadata": {},
   "source": [
    "## Target Encoding some columns"
   ]
  },
  {
   "cell_type": "code",
   "execution_count": 44,
   "id": "f250835f",
   "metadata": {},
   "outputs": [],
   "source": [
    "categorical_columns = ['msno', 'song_id','source_type']\n",
    "\n",
    "encoder = TargetEncoder(smoothing=0.5)\n",
    "for elem in categorical_columns:\n",
    "     df_reduced_memory[elem+'_encoding'] = encoder.fit_transform(df_reduced_memory[elem], df_reduced_memory['target'])"
   ]
  },
  {
   "cell_type": "code",
   "execution_count": 45,
   "id": "e4a6d8fa",
   "metadata": {},
   "outputs": [
    {
     "data": {
      "text/html": [
       "<div>\n",
       "<style scoped>\n",
       "    .dataframe tbody tr th:only-of-type {\n",
       "        vertical-align: middle;\n",
       "    }\n",
       "\n",
       "    .dataframe tbody tr th {\n",
       "        vertical-align: top;\n",
       "    }\n",
       "\n",
       "    .dataframe thead th {\n",
       "        text-align: right;\n",
       "    }\n",
       "</style>\n",
       "<table border=\"1\" class=\"dataframe\">\n",
       "  <thead>\n",
       "    <tr style=\"text-align: right;\">\n",
       "      <th></th>\n",
       "      <th>msno</th>\n",
       "      <th>song_id</th>\n",
       "      <th>source_system_tab</th>\n",
       "      <th>source_screen_name</th>\n",
       "      <th>source_type</th>\n",
       "      <th>target</th>\n",
       "      <th>city</th>\n",
       "      <th>bd</th>\n",
       "      <th>gender</th>\n",
       "      <th>registered_via</th>\n",
       "      <th>...</th>\n",
       "      <th>composer_label_encoded</th>\n",
       "      <th>lyricist_label_encoded</th>\n",
       "      <th>name_label_encoded</th>\n",
       "      <th>city_label_encoded</th>\n",
       "      <th>gender_label_encoded</th>\n",
       "      <th>registered_via_label_encoded</th>\n",
       "      <th>language_label_encoded</th>\n",
       "      <th>msno_encoding</th>\n",
       "      <th>song_id_encoding</th>\n",
       "      <th>source_type_encoding</th>\n",
       "    </tr>\n",
       "  </thead>\n",
       "  <tbody>\n",
       "    <tr>\n",
       "      <th>1</th>\n",
       "      <td>pouJqjNRmZOnRNzzMWWkamTKkIGHyvhl/jo4HgbncnM=</td>\n",
       "      <td>BBzumQNXUHKdEBOB7mAJuzok+IJA1c2Ryg/yzTF6tik=</td>\n",
       "      <td>discover</td>\n",
       "      <td>Online playlist more</td>\n",
       "      <td>online-playlist</td>\n",
       "      <td>0</td>\n",
       "      <td>15</td>\n",
       "      <td>18</td>\n",
       "      <td>male</td>\n",
       "      <td>4</td>\n",
       "      <td>...</td>\n",
       "      <td>11653</td>\n",
       "      <td>18918</td>\n",
       "      <td>39128</td>\n",
       "      <td>13</td>\n",
       "      <td>1</td>\n",
       "      <td>1</td>\n",
       "      <td>8</td>\n",
       "      <td>0.505348</td>\n",
       "      <td>0.461538</td>\n",
       "      <td>0.438807</td>\n",
       "    </tr>\n",
       "    <tr>\n",
       "      <th>3</th>\n",
       "      <td>s0ndDsjI79amU0RBiullFN8HRz9HjE++34jGNa7zJ/s=</td>\n",
       "      <td>BBzumQNXUHKdEBOB7mAJuzok+IJA1c2Ryg/yzTF6tik=</td>\n",
       "      <td>my library</td>\n",
       "      <td>Local playlist more</td>\n",
       "      <td>local-library</td>\n",
       "      <td>1</td>\n",
       "      <td>5</td>\n",
       "      <td>21</td>\n",
       "      <td>female</td>\n",
       "      <td>9</td>\n",
       "      <td>...</td>\n",
       "      <td>11653</td>\n",
       "      <td>18918</td>\n",
       "      <td>39128</td>\n",
       "      <td>3</td>\n",
       "      <td>0</td>\n",
       "      <td>3</td>\n",
       "      <td>8</td>\n",
       "      <td>0.894052</td>\n",
       "      <td>0.461538</td>\n",
       "      <td>0.625698</td>\n",
       "    </tr>\n",
       "    <tr>\n",
       "      <th>4</th>\n",
       "      <td>Vw4Umh6/qlsJDC/XMslyAxVvRgFJGHr53yb/nrmY1DU=</td>\n",
       "      <td>BBzumQNXUHKdEBOB7mAJuzok+IJA1c2Ryg/yzTF6tik=</td>\n",
       "      <td>my library</td>\n",
       "      <td>Local playlist more</td>\n",
       "      <td>local-library</td>\n",
       "      <td>0</td>\n",
       "      <td>6</td>\n",
       "      <td>33</td>\n",
       "      <td>female</td>\n",
       "      <td>9</td>\n",
       "      <td>...</td>\n",
       "      <td>11653</td>\n",
       "      <td>18918</td>\n",
       "      <td>39128</td>\n",
       "      <td>4</td>\n",
       "      <td>0</td>\n",
       "      <td>3</td>\n",
       "      <td>8</td>\n",
       "      <td>0.231068</td>\n",
       "      <td>0.461538</td>\n",
       "      <td>0.625698</td>\n",
       "    </tr>\n",
       "    <tr>\n",
       "      <th>5</th>\n",
       "      <td>YqtKhiDOFJ/gdd2V4AFdnVwGMMaA0yUEbb8w7xuoP7I=</td>\n",
       "      <td>BBzumQNXUHKdEBOB7mAJuzok+IJA1c2Ryg/yzTF6tik=</td>\n",
       "      <td>discover</td>\n",
       "      <td>Discover Chart</td>\n",
       "      <td>online-playlist</td>\n",
       "      <td>0</td>\n",
       "      <td>5</td>\n",
       "      <td>23</td>\n",
       "      <td>female</td>\n",
       "      <td>9</td>\n",
       "      <td>...</td>\n",
       "      <td>11653</td>\n",
       "      <td>18918</td>\n",
       "      <td>39128</td>\n",
       "      <td>3</td>\n",
       "      <td>0</td>\n",
       "      <td>3</td>\n",
       "      <td>8</td>\n",
       "      <td>0.615032</td>\n",
       "      <td>0.461538</td>\n",
       "      <td>0.438807</td>\n",
       "    </tr>\n",
       "    <tr>\n",
       "      <th>6</th>\n",
       "      <td>jGiECz8y+oKS0tDcZArJXK2ZQisBpk/OC3wh4kvs8gc=</td>\n",
       "      <td>BBzumQNXUHKdEBOB7mAJuzok+IJA1c2Ryg/yzTF6tik=</td>\n",
       "      <td>discover</td>\n",
       "      <td>Online playlist more</td>\n",
       "      <td>song-based-playlist</td>\n",
       "      <td>1</td>\n",
       "      <td>5</td>\n",
       "      <td>27</td>\n",
       "      <td>female</td>\n",
       "      <td>9</td>\n",
       "      <td>...</td>\n",
       "      <td>11653</td>\n",
       "      <td>18918</td>\n",
       "      <td>39128</td>\n",
       "      <td>3</td>\n",
       "      <td>0</td>\n",
       "      <td>3</td>\n",
       "      <td>8</td>\n",
       "      <td>0.472306</td>\n",
       "      <td>0.461538</td>\n",
       "      <td>0.383312</td>\n",
       "    </tr>\n",
       "  </tbody>\n",
       "</table>\n",
       "<p>5 rows × 32 columns</p>\n",
       "</div>"
      ],
      "text/plain": [
       "                                           msno  \\\n",
       "1  pouJqjNRmZOnRNzzMWWkamTKkIGHyvhl/jo4HgbncnM=   \n",
       "3  s0ndDsjI79amU0RBiullFN8HRz9HjE++34jGNa7zJ/s=   \n",
       "4  Vw4Umh6/qlsJDC/XMslyAxVvRgFJGHr53yb/nrmY1DU=   \n",
       "5  YqtKhiDOFJ/gdd2V4AFdnVwGMMaA0yUEbb8w7xuoP7I=   \n",
       "6  jGiECz8y+oKS0tDcZArJXK2ZQisBpk/OC3wh4kvs8gc=   \n",
       "\n",
       "                                        song_id source_system_tab  \\\n",
       "1  BBzumQNXUHKdEBOB7mAJuzok+IJA1c2Ryg/yzTF6tik=          discover   \n",
       "3  BBzumQNXUHKdEBOB7mAJuzok+IJA1c2Ryg/yzTF6tik=        my library   \n",
       "4  BBzumQNXUHKdEBOB7mAJuzok+IJA1c2Ryg/yzTF6tik=        my library   \n",
       "5  BBzumQNXUHKdEBOB7mAJuzok+IJA1c2Ryg/yzTF6tik=          discover   \n",
       "6  BBzumQNXUHKdEBOB7mAJuzok+IJA1c2Ryg/yzTF6tik=          discover   \n",
       "\n",
       "     source_screen_name          source_type  target  city  bd  gender  \\\n",
       "1  Online playlist more      online-playlist       0    15  18    male   \n",
       "3   Local playlist more        local-library       1     5  21  female   \n",
       "4   Local playlist more        local-library       0     6  33  female   \n",
       "5        Discover Chart      online-playlist       0     5  23  female   \n",
       "6  Online playlist more  song-based-playlist       1     5  27  female   \n",
       "\n",
       "   registered_via  ...  composer_label_encoded  lyricist_label_encoded  \\\n",
       "1               4  ...                   11653                   18918   \n",
       "3               9  ...                   11653                   18918   \n",
       "4               9  ...                   11653                   18918   \n",
       "5               9  ...                   11653                   18918   \n",
       "6               9  ...                   11653                   18918   \n",
       "\n",
       "   name_label_encoded city_label_encoded gender_label_encoded  \\\n",
       "1               39128                 13                    1   \n",
       "3               39128                  3                    0   \n",
       "4               39128                  4                    0   \n",
       "5               39128                  3                    0   \n",
       "6               39128                  3                    0   \n",
       "\n",
       "  registered_via_label_encoded language_label_encoded  msno_encoding  \\\n",
       "1                            1                      8       0.505348   \n",
       "3                            3                      8       0.894052   \n",
       "4                            3                      8       0.231068   \n",
       "5                            3                      8       0.615032   \n",
       "6                            3                      8       0.472306   \n",
       "\n",
       "  song_id_encoding source_type_encoding  \n",
       "1         0.461538             0.438807  \n",
       "3         0.461538             0.625698  \n",
       "4         0.461538             0.625698  \n",
       "5         0.461538             0.438807  \n",
       "6         0.461538             0.383312  \n",
       "\n",
       "[5 rows x 32 columns]"
      ]
     },
     "execution_count": 45,
     "metadata": {},
     "output_type": "execute_result"
    }
   ],
   "source": [
    "df_reduced_memory.head()\n"
   ]
  },
  {
   "cell_type": "markdown",
   "id": "f0e4518b",
   "metadata": {},
   "source": [
    "## Removing Unnecssary Coloumns"
   ]
  },
  {
   "cell_type": "code",
   "execution_count": 46,
   "id": "76dbc769",
   "metadata": {},
   "outputs": [],
   "source": [
    "# removing unnecessary columns\n",
    "\n",
    "df_reduced_memory = df_reduced_memory.drop(['msno', 'song_id','registered_via','city','language','gender','artist_name','composer','lyricist','name'], axis=1)\n"
   ]
  },
  {
   "cell_type": "code",
   "execution_count": 47,
   "id": "762eae68",
   "metadata": {},
   "outputs": [],
   "source": [
    "df_reduced_memory = df_reduced_memory.drop(['source_system_tab','source_screen_name','source_type','isrc'],axis =1)\n"
   ]
  },
  {
   "cell_type": "code",
   "execution_count": 48,
   "id": "fcfda79e",
   "metadata": {},
   "outputs": [],
   "source": [
    "df_reduced_memory = df_reduced_memory.drop(['genre_ids'],axis =1)\n"
   ]
  },
  {
   "cell_type": "markdown",
   "id": "ec6e9a92",
   "metadata": {},
   "source": [
    "## Converting registration time and expiration date coloumns to a more suitable format"
   ]
  },
  {
   "cell_type": "code",
   "execution_count": 49,
   "id": "af5e32a5",
   "metadata": {},
   "outputs": [],
   "source": [
    "\n",
    "# Convert 'registration_init_time' column to string\n",
    "df_reduced_memory.registration_init_time = df_reduced_memory.registration_init_time.astype('str')\n",
    "\n",
    "# Reformat 'registration_init_time' as YYYY-MM-DD\n",
    "df_reduced_memory.registration_init_time = df_reduced_memory.registration_init_time.apply(lambda x: x[:4] + '-' + x[4:6] + '-' + x[6:8])\n",
    "\n",
    "# Convert 'registration_init_time' to datetime\n",
    "df_reduced_memory.registration_init_time = pd.to_datetime(df_reduced_memory.registration_init_time)\n",
    "\n",
    "# Extract month, day of the week, year, and day from 'registration_init_time'\n",
    "df_reduced_memory['reg_month'] = df_reduced_memory.registration_init_time.dt.month\n",
    "df_reduced_memory['reg_dayofweek'] = df_reduced_memory.registration_init_time.dt.weekday\n",
    "df_reduced_memory['reg_year'] = df_reduced_memory.registration_init_time.dt.year\n",
    "df_reduced_memory['reg_day'] = df_reduced_memory.registration_init_time.dt.day\n",
    "\n",
    "# Convert 'expiration_date' column to string\n",
    "df_reduced_memory.expiration_date = df_reduced_memory.expiration_date.astype('str')\n",
    "\n",
    "# Reformat 'expiration_date' as YYYY-MM-DD\n",
    "df_reduced_memory.expiration_date = df_reduced_memory.expiration_date.apply(lambda x: x[:4] + '-' + x[4:6] + '-' + x[6:8])\n",
    "\n",
    "# Convert 'expiration_date' to datetime\n",
    "df_reduced_memory.expiration_date = pd.to_datetime(df_reduced_memory.expiration_date)\n",
    "\n",
    "# Calculate the difference in days between 'expiration_date' and 'registration_init_time'\n",
    "df_reduced_memory['reg_diff'] = df_reduced_memory.apply(lambda x: (x.expiration_date - x.registration_init_time).days, axis=1)\n",
    "\n",
    "# Drop unnecessary columns 'expiration_date' and 'registration_init_time'\n",
    "df_reduced_memory = df_reduced_memory.drop(columns=['expiration_date', 'registration_init_time'])\n",
    "\n"
   ]
  },
  {
   "cell_type": "code",
   "execution_count": 50,
   "id": "5941f5fa",
   "metadata": {},
   "outputs": [
    {
     "data": {
      "text/html": [
       "<div>\n",
       "<style scoped>\n",
       "    .dataframe tbody tr th:only-of-type {\n",
       "        vertical-align: middle;\n",
       "    }\n",
       "\n",
       "    .dataframe tbody tr th {\n",
       "        vertical-align: top;\n",
       "    }\n",
       "\n",
       "    .dataframe thead th {\n",
       "        text-align: right;\n",
       "    }\n",
       "</style>\n",
       "<table border=\"1\" class=\"dataframe\">\n",
       "  <thead>\n",
       "    <tr style=\"text-align: right;\">\n",
       "      <th></th>\n",
       "      <th>target</th>\n",
       "      <th>bd</th>\n",
       "      <th>song_length</th>\n",
       "      <th>genre_ids_label_encoded</th>\n",
       "      <th>artist_name_label_encoded</th>\n",
       "      <th>composer_label_encoded</th>\n",
       "      <th>lyricist_label_encoded</th>\n",
       "      <th>name_label_encoded</th>\n",
       "      <th>city_label_encoded</th>\n",
       "      <th>gender_label_encoded</th>\n",
       "      <th>registered_via_label_encoded</th>\n",
       "      <th>language_label_encoded</th>\n",
       "      <th>msno_encoding</th>\n",
       "      <th>song_id_encoding</th>\n",
       "      <th>source_type_encoding</th>\n",
       "      <th>reg_month</th>\n",
       "      <th>reg_dayofweek</th>\n",
       "      <th>reg_year</th>\n",
       "      <th>reg_day</th>\n",
       "      <th>reg_diff</th>\n",
       "    </tr>\n",
       "  </thead>\n",
       "  <tbody>\n",
       "    <tr>\n",
       "      <th>1</th>\n",
       "      <td>0</td>\n",
       "      <td>18</td>\n",
       "      <td>206471</td>\n",
       "      <td>263</td>\n",
       "      <td>2567</td>\n",
       "      <td>11653</td>\n",
       "      <td>18918</td>\n",
       "      <td>39128</td>\n",
       "      <td>13</td>\n",
       "      <td>1</td>\n",
       "      <td>1</td>\n",
       "      <td>8</td>\n",
       "      <td>0.505348</td>\n",
       "      <td>0.461538</td>\n",
       "      <td>0.438807</td>\n",
       "      <td>12</td>\n",
       "      <td>6</td>\n",
       "      <td>2015</td>\n",
       "      <td>20</td>\n",
       "      <td>650</td>\n",
       "    </tr>\n",
       "    <tr>\n",
       "      <th>3</th>\n",
       "      <td>1</td>\n",
       "      <td>21</td>\n",
       "      <td>206471</td>\n",
       "      <td>263</td>\n",
       "      <td>2567</td>\n",
       "      <td>11653</td>\n",
       "      <td>18918</td>\n",
       "      <td>39128</td>\n",
       "      <td>3</td>\n",
       "      <td>0</td>\n",
       "      <td>3</td>\n",
       "      <td>8</td>\n",
       "      <td>0.894052</td>\n",
       "      <td>0.461538</td>\n",
       "      <td>0.625698</td>\n",
       "      <td>8</td>\n",
       "      <td>0</td>\n",
       "      <td>2011</td>\n",
       "      <td>8</td>\n",
       "      <td>2232</td>\n",
       "    </tr>\n",
       "    <tr>\n",
       "      <th>4</th>\n",
       "      <td>0</td>\n",
       "      <td>33</td>\n",
       "      <td>206471</td>\n",
       "      <td>263</td>\n",
       "      <td>2567</td>\n",
       "      <td>11653</td>\n",
       "      <td>18918</td>\n",
       "      <td>39128</td>\n",
       "      <td>4</td>\n",
       "      <td>0</td>\n",
       "      <td>3</td>\n",
       "      <td>8</td>\n",
       "      <td>0.231068</td>\n",
       "      <td>0.461538</td>\n",
       "      <td>0.625698</td>\n",
       "      <td>3</td>\n",
       "      <td>4</td>\n",
       "      <td>2007</td>\n",
       "      <td>23</td>\n",
       "      <td>3829</td>\n",
       "    </tr>\n",
       "    <tr>\n",
       "      <th>5</th>\n",
       "      <td>0</td>\n",
       "      <td>23</td>\n",
       "      <td>206471</td>\n",
       "      <td>263</td>\n",
       "      <td>2567</td>\n",
       "      <td>11653</td>\n",
       "      <td>18918</td>\n",
       "      <td>39128</td>\n",
       "      <td>3</td>\n",
       "      <td>0</td>\n",
       "      <td>3</td>\n",
       "      <td>8</td>\n",
       "      <td>0.615032</td>\n",
       "      <td>0.461538</td>\n",
       "      <td>0.438807</td>\n",
       "      <td>12</td>\n",
       "      <td>1</td>\n",
       "      <td>2014</td>\n",
       "      <td>23</td>\n",
       "      <td>1024</td>\n",
       "    </tr>\n",
       "    <tr>\n",
       "      <th>6</th>\n",
       "      <td>1</td>\n",
       "      <td>27</td>\n",
       "      <td>206471</td>\n",
       "      <td>263</td>\n",
       "      <td>2567</td>\n",
       "      <td>11653</td>\n",
       "      <td>18918</td>\n",
       "      <td>39128</td>\n",
       "      <td>3</td>\n",
       "      <td>0</td>\n",
       "      <td>3</td>\n",
       "      <td>8</td>\n",
       "      <td>0.472306</td>\n",
       "      <td>0.461538</td>\n",
       "      <td>0.383312</td>\n",
       "      <td>4</td>\n",
       "      <td>3</td>\n",
       "      <td>2014</td>\n",
       "      <td>24</td>\n",
       "      <td>1385</td>\n",
       "    </tr>\n",
       "  </tbody>\n",
       "</table>\n",
       "</div>"
      ],
      "text/plain": [
       "   target  bd  song_length  genre_ids_label_encoded  \\\n",
       "1       0  18       206471                      263   \n",
       "3       1  21       206471                      263   \n",
       "4       0  33       206471                      263   \n",
       "5       0  23       206471                      263   \n",
       "6       1  27       206471                      263   \n",
       "\n",
       "   artist_name_label_encoded  composer_label_encoded  lyricist_label_encoded  \\\n",
       "1                       2567                   11653                   18918   \n",
       "3                       2567                   11653                   18918   \n",
       "4                       2567                   11653                   18918   \n",
       "5                       2567                   11653                   18918   \n",
       "6                       2567                   11653                   18918   \n",
       "\n",
       "   name_label_encoded  city_label_encoded  gender_label_encoded  \\\n",
       "1               39128                  13                     1   \n",
       "3               39128                   3                     0   \n",
       "4               39128                   4                     0   \n",
       "5               39128                   3                     0   \n",
       "6               39128                   3                     0   \n",
       "\n",
       "   registered_via_label_encoded  language_label_encoded  msno_encoding  \\\n",
       "1                             1                       8       0.505348   \n",
       "3                             3                       8       0.894052   \n",
       "4                             3                       8       0.231068   \n",
       "5                             3                       8       0.615032   \n",
       "6                             3                       8       0.472306   \n",
       "\n",
       "   song_id_encoding  source_type_encoding  reg_month  reg_dayofweek  reg_year  \\\n",
       "1          0.461538              0.438807         12              6      2015   \n",
       "3          0.461538              0.625698          8              0      2011   \n",
       "4          0.461538              0.625698          3              4      2007   \n",
       "5          0.461538              0.438807         12              1      2014   \n",
       "6          0.461538              0.383312          4              3      2014   \n",
       "\n",
       "   reg_day  reg_diff  \n",
       "1       20       650  \n",
       "3        8      2232  \n",
       "4       23      3829  \n",
       "5       23      1024  \n",
       "6       24      1385  "
      ]
     },
     "execution_count": 50,
     "metadata": {},
     "output_type": "execute_result"
    }
   ],
   "source": [
    "df_reduced_memory.head()"
   ]
  },
  {
   "cell_type": "markdown",
   "id": "ad6bc0d7",
   "metadata": {},
   "source": [
    "## Heatmap of final Data"
   ]
  },
  {
   "cell_type": "code",
   "execution_count": 51,
   "id": "53a3ab1d",
   "metadata": {},
   "outputs": [
    {
     "data": {
      "text/plain": [
       "<AxesSubplot:>"
      ]
     },
     "execution_count": 51,
     "metadata": {},
     "output_type": "execute_result"
    },
    {
     "data": {
      "image/png": "[encoded data removed]",
      "text/plain": [
       "<Figure size 432x288 with 2 Axes>"
      ]
     },
     "metadata": {
      "needs_background": "light"
     },
     "output_type": "display_data"
    }
   ],
   "source": [
    "sns.heatmap(df_reduced_memory.corr(),cmap=\"magma\")"
   ]
  },
  {
   "cell_type": "markdown",
   "id": "b77f7390",
   "metadata": {},
   "source": [
    "## Splitting The Dataset\n"
   ]
  },
  {
   "cell_type": "code",
   "execution_count": 112,
   "id": "4d46bfb0",
   "metadata": {},
   "outputs": [],
   "source": [
    "X = df_reduced_memory.drop(['target'],axis =1)\n",
    "Y = df_reduced_memory['target']"
   ]
  },
  {
   "cell_type": "code",
   "execution_count": 113,
   "id": "3e33d0d2",
   "metadata": {},
   "outputs": [
    {
     "data": {
      "text/plain": [
       "(4335302, 19)"
      ]
     },
     "execution_count": 113,
     "metadata": {},
     "output_type": "execute_result"
    }
   ],
   "source": [
    "X.shape"
   ]
  },
  {
   "cell_type": "markdown",
   "id": "7c63b0d0",
   "metadata": {},
   "source": [
    "## picking a sample (30%) from dataset"
   ]
  },
  {
   "cell_type": "code",
   "execution_count": 114,
   "id": "cc8beb78",
   "metadata": {},
   "outputs": [],
   "source": [
    "#Testing and training data\n",
    "X = X.sample(n=117088, random_state=42) \n",
    "Y = Y.sample(n=117088, random_state=42) \n",
    "x_train, x_test, y_train, y_test = train_test_split(X, Y, test_size=0.2, stratify=Y, random_state=42)"
   ]
  },
  {
   "cell_type": "code",
   "execution_count": 115,
   "id": "19d8836d",
   "metadata": {},
   "outputs": [
    {
     "name": "stdout",
     "output_type": "stream",
     "text": [
      "(93670, 19)\n",
      "(93670,)\n"
     ]
    }
   ],
   "source": [
    "print(x_train.shape)\n",
    "print(y_train.shape)"
   ]
  },
  {
   "cell_type": "markdown",
   "id": "6e642358",
   "metadata": {},
   "source": [
    "# Building the models\n",
    "# I will use , XGBoost, RandomForest, and LGBM Algortihtms."
   ]
  },
  {
   "cell_type": "markdown",
   "id": "4d6e2dde",
   "metadata": {},
   "source": [
    "## XGBOOST"
   ]
  },
  {
   "cell_type": "code",
   "execution_count": 122,
   "id": "e1b5e4c4",
   "metadata": {},
   "outputs": [
    {
     "data": {
      "text/plain": [
       "0.7455026671490259"
      ]
     },
     "execution_count": 122,
     "metadata": {},
     "output_type": "execute_result"
    }
   ],
   "source": [
    "model_xgb = XGBClassifier()\n",
    "model_xgb.fit(x_train,y_train)\n",
    "xgb_predict_prob = model_xgb.predict_proba(x_test)[:, 1]\n",
    "fpr_xgb, tpr_xgb, thresholds = roc_curve(y_test, xgb_predict_prob, pos_label=1)\n",
    "# Compute the ROC AUC score\n",
    "roc_auc_xgb = roc_auc_score(y_test, xgb_predict_prob)\n",
    "roc_auc_xgb"
   ]
  },
  {
   "cell_type": "markdown",
   "id": "6b9cb8e2",
   "metadata": {},
   "source": [
    "## ROC CURVE FOR XGBOOST"
   ]
  },
  {
   "cell_type": "code",
   "execution_count": 124,
   "id": "5ba71c6c",
   "metadata": {},
   "outputs": [
    {
     "data": {
      "image/png": "[encoded data removed]",
      "text/plain": [
       "<Figure size 432x288 with 1 Axes>"
      ]
     },
     "metadata": {
      "needs_background": "light"
     },
     "output_type": "display_data"
    }
   ],
   "source": [
    "plt.plot(fpr_xgb, tpr_xgb, label='ROC curve for XGBoost(area = %0.2f)' % roc_auc_xgb)\n",
    "# roc curve for tpr = fpr \n",
    "plt.plot([0, 1], [0, 1], 'k--', label='XGBOOST')\n",
    "plt.xlabel('False Positive Rate')\n",
    "plt.ylabel('True Positive Rate')\n",
    "plt.title('ROC Curve')\n",
    "plt.legend(loc=\"lower right\")\n",
    "plt.show()"
   ]
  },
  {
   "cell_type": "markdown",
   "id": "c4a85cd8",
   "metadata": {},
   "source": [
    "## Random Forest"
   ]
  },
  {
   "cell_type": "code",
   "execution_count": 133,
   "id": "05ed926b",
   "metadata": {},
   "outputs": [
    {
     "data": {
      "text/plain": [
       "0.752281839199348"
      ]
     },
     "execution_count": 133,
     "metadata": {},
     "output_type": "execute_result"
    }
   ],
   "source": [
    "model_rndm = RandomForestClassifier(criterion='entropy', n_estimators=441, n_jobs=6, max_depth=533, min_samples_split=6)\n",
    "model_rndm.fit(x_train, y_train)\n",
    "rndm_predict_prob = model_rndm.predict_proba(x_test)[:, 1]\n",
    "fpr_rndm, tpr_rndm, thresholds = roc_curve(y_test, rndm_predict_prob, pos_label=1)\n",
    "# Compute the ROC AUC score\n",
    "roc_auc_rndm = roc_auc_score(y_test, rndm_predict_prob)\n",
    "roc_auc_rndm"
   ]
  },
  {
   "cell_type": "markdown",
   "id": "92277676",
   "metadata": {},
   "source": [
    "## ROC curve for Random Forest"
   ]
  },
  {
   "cell_type": "code",
   "execution_count": 135,
   "id": "7d98b0f0",
   "metadata": {},
   "outputs": [
    {
     "data": {
      "image/png": "[encoded data removed]",
      "text/plain": [
       "<Figure size 432x288 with 1 Axes>"
      ]
     },
     "metadata": {
      "needs_background": "light"
     },
     "output_type": "display_data"
    }
   ],
   "source": [
    "plt.plot(fpr_rndm, tpr_rndm, label='ROC curve (area = %0.2f)' % roc_auc_rndm)\n",
    "# roc curve for tpr = fpr \n",
    "plt.plot([0, 1], [0, 1], 'k--', label='Random Forest')\n",
    "plt.xlabel('False Positive Rate')\n",
    "plt.ylabel('True Positive Rate')\n",
    "plt.title('ROC Curve')\n",
    "plt.legend(loc=\"lower right\")\n",
    "plt.show()"
   ]
  },
  {
   "cell_type": "markdown",
   "id": "b8e07a36",
   "metadata": {},
   "source": [
    "## LGBM"
   ]
  },
  {
   "cell_type": "code",
   "execution_count": 130,
   "id": "c17ab771",
   "metadata": {},
   "outputs": [
    {
     "name": "stdout",
     "output_type": "stream",
     "text": [
      "[LightGBM] [Info] Number of positive: 47722, number of negative: 45948\n",
      "[LightGBM] [Warning] Auto-choosing row-wise multi-threading, the overhead of testing was 0.001591 seconds.\n",
      "You can set `force_row_wise=true` to remove the overhead.\n",
      "And if memory is not enough, you can set `force_col_wise=true`.\n",
      "[LightGBM] [Info] Total Bins 2369\n",
      "[LightGBM] [Info] Number of data points in the train set: 93670, number of used features: 19\n",
      "[LightGBM] [Info] [binary:BoostFromScore]: pavg=0.509469 -> initscore=0.037882\n",
      "[LightGBM] [Info] Start training from score 0.037882\n"
     ]
    },
    {
     "data": {
      "text/plain": [
       "0.753044210122134"
      ]
     },
     "execution_count": 130,
     "metadata": {},
     "output_type": "execute_result"
    }
   ],
   "source": [
    "model_lgb = lgb.LGBMClassifier(boosting_type='gbdt', n_estimators=600, min_child_samples=1, learning_rate=0.05, \n",
    "                      reg_alpha=0.0254, reg_lambda=1.8398, colsample_bytree=0.8, subsample=0.8, max_depth=50, num_leaves=562)\n",
    "model_lgb.fit(x_train, y_train)\n",
    "lgb_predict_prob = model_lgb.predict_proba(x_test)[:, 1]\n",
    "fpr_lgb, tpr_lgb, thresholds = roc_curve(y_test, lgb_predict_prob, pos_label=1)\n",
    "# Compute the ROC AUC score\n",
    "roc_auc_lgb = roc_auc_score(y_test, lgb_predict_prob)\n",
    "roc_auc_lgb"
   ]
  },
  {
   "cell_type": "markdown",
   "id": "5f108348",
   "metadata": {},
   "source": [
    "## ROC curve for lgbm"
   ]
  },
  {
   "cell_type": "code",
   "execution_count": 132,
   "id": "6ef4bf3a",
   "metadata": {},
   "outputs": [
    {
     "data": {
      "image/png": "[encoded data removed]",
      "text/plain": [
       "<Figure size 432x288 with 1 Axes>"
      ]
     },
     "metadata": {
      "needs_background": "light"
     },
     "output_type": "display_data"
    }
   ],
   "source": [
    "plt.plot(fpr_lgb, tpr_lgb, label='ROC curve (area = %0.2f)' % roc_auc_lgb)\n",
    "# roc curve for tpr = fpr \n",
    "plt.plot([0, 1], [0, 1], 'k--', label='LGBM')\n",
    "plt.xlabel('False Positive Rate')\n",
    "plt.ylabel('True Positive Rate')\n",
    "plt.title('ROC Curve')\n",
    "plt.legend(loc=\"lower right\")\n",
    "plt.show()"
   ]
  },
  {
   "cell_type": "markdown",
   "id": "98fdb109",
   "metadata": {},
   "source": [
    "## ALL Three models gave nearly same AUC value"
   ]
  }
 ],
 "metadata": {
  "kernelspec": {
   "display_name": "Python 3 (ipykernel)",
   "language": "python",
   "name": "python3"
  },
  "language_info": {
   "codemirror_mode": {
    "name": "ipython",
    "version": 3
   },
   "file_extension": ".py",
   "mimetype": "text/x-python",
   "name": "python",
   "nbconvert_exporter": "python",
   "pygments_lexer": "ipython3",
   "version": "3.9.12"
  }
 },
 "nbformat": 4,
 "nbformat_minor": 5
}
