{
 "cells": [
  {
   "cell_type": "markdown",
   "id": "e534812d",
   "metadata": {},
   "source": [
    "# Haleema Sadia"
   ]
  },
  {
   "cell_type": "markdown",
   "id": "c878589b",
   "metadata": {},
   "source": [
    "# Task 7 Develop A Neural Network That Can Read Handwriting"
   ]
  },
  {
   "cell_type": "markdown",
   "id": "d1852f13",
   "metadata": {},
   "source": [
    "# LGMVIP Data Science Internship July"
   ]
  },
  {
   "cell_type": "code",
   "execution_count": 1,
   "id": "0fc23ebd",
   "metadata": {},
   "outputs": [],
   "source": [
    "# load libraries\n",
    "import tensorflow as tf\n",
    "from tensorflow.keras.utils import to_categorical\n",
    "import seaborn as sns\n",
    "import numpy as np\n",
    "import pandas as pd\n",
    "import matplotlib.pyplot as plt\n",
    "from tensorflow.keras import datasets, layers, models"
   ]
  },
  {
   "cell_type": "code",
   "execution_count": 2,
   "id": "8c7a4811",
   "metadata": {},
   "outputs": [],
   "source": [
    "# load mnist dataset\n",
    "tf.keras.datasets.mnist.load_data(\n",
    "    path='mnist.npz'\n",
    ")\n",
    "(x_train, y_train), (x_test, y_test) = tf.keras.datasets.mnist.load_data()\n",
    "x_train = x_train.reshape((x_train.shape[0], 28, 28, 1))\n",
    "x_test= x_test.reshape((x_test.shape[0], 28, 28, 1))"
   ]
  },
  {
   "cell_type": "code",
   "execution_count": 3,
   "id": "65113b34",
   "metadata": {},
   "outputs": [
    {
     "name": "stdout",
     "output_type": "stream",
     "text": [
      "(60000, 28, 28, 1)\n",
      "(60000,)\n",
      "(10000, 28, 28, 1)\n",
      "(10000,)\n"
     ]
    }
   ],
   "source": [
    "print(x_train.shape)\n",
    "print(y_train.shape)\n",
    "print(x_test.shape)\n",
    "print(y_test.shape)"
   ]
  },
  {
   "cell_type": "markdown",
   "id": "9fab7bf0",
   "metadata": {},
   "source": [
    "## target encoding"
   ]
  },
  {
   "cell_type": "code",
   "execution_count": 4,
   "id": "5c610057",
   "metadata": {},
   "outputs": [],
   "source": [
    "y_train = to_categorical(y_train)\n",
    "y_test = to_categorical(y_test)"
   ]
  },
  {
   "cell_type": "markdown",
   "id": "12bbc598",
   "metadata": {},
   "source": [
    "## normalizing the data"
   ]
  },
  {
   "cell_type": "code",
   "execution_count": 5,
   "id": "df23a4ca",
   "metadata": {},
   "outputs": [],
   "source": [
    "x_train, x_test = x_train / 255.0, x_test / 255.0"
   ]
  },
  {
   "cell_type": "markdown",
   "id": "39a7963c",
   "metadata": {},
   "source": [
    "## visualzing the data"
   ]
  },
  {
   "cell_type": "code",
   "execution_count": 6,
   "id": "0d85c89e",
   "metadata": {},
   "outputs": [
    {
     "data": {
      "image/png": "[encoded data removed]",
      "text/plain": [
       "<Figure size 720x720 with 10 Axes>"
      ]
     },
     "metadata": {
      "needs_background": "light"
     },
     "output_type": "display_data"
    }
   ],
   "source": [
    "plt.figure(figsize=(10,10))\n",
    "for i in range(10):\n",
    "    plt.subplot(5,5,i+1)\n",
    "    plt.imshow(x_train[i])\n",
    "plt.show()"
   ]
  },
  {
   "cell_type": "markdown",
   "id": "0467e6de",
   "metadata": {},
   "source": [
    "## Building the models"
   ]
  },
  {
   "cell_type": "code",
   "execution_count": 18,
   "id": "02d3d9a3",
   "metadata": {},
   "outputs": [],
   "source": [
    "model = models.Sequential()\n",
    "model.add(layers.Conv2D(32, (3, 3), activation='relu',  input_shape=(28, 28, 1)))\n",
    "model.add(layers.MaxPooling2D((2, 2)))\n",
    "model.add(layers.Flatten()) \n",
    "model.add(layers.Dense(100, activation='relu'))\n",
    "model.add(layers.Dense(10, activation='softmax'))\n",
    " # compile model\n",
    "model.compile(optimizer='adam', loss='categorical_crossentropy', metrics=['accuracy'])"
   ]
  },
  {
   "cell_type": "code",
   "execution_count": 19,
   "id": "1a276e98",
   "metadata": {},
   "outputs": [
    {
     "name": "stdout",
     "output_type": "stream",
     "text": [
      "Model: \"sequential_2\"\n",
      "_________________________________________________________________\n",
      "Layer (type)                 Output Shape              Param #   \n",
      "=================================================================\n",
      "conv2d_2 (Conv2D)            (None, 26, 26, 32)        320       \n",
      "_________________________________________________________________\n",
      "max_pooling2d_2 (MaxPooling2 (None, 13, 13, 32)        0         \n",
      "_________________________________________________________________\n",
      "flatten_2 (Flatten)          (None, 5408)              0         \n",
      "_________________________________________________________________\n",
      "dense_4 (Dense)              (None, 100)               540900    \n",
      "_________________________________________________________________\n",
      "dense_5 (Dense)              (None, 10)                1010      \n",
      "=================================================================\n",
      "Total params: 542,230\n",
      "Trainable params: 542,230\n",
      "Non-trainable params: 0\n",
      "_________________________________________________________________\n"
     ]
    }
   ],
   "source": [
    "model.summary()"
   ]
  },
  {
   "cell_type": "markdown",
   "id": "2f7024db",
   "metadata": {},
   "source": [
    "# training the model"
   ]
  },
  {
   "cell_type": "code",
   "execution_count": 20,
   "id": "0ee39876",
   "metadata": {},
   "outputs": [
    {
     "name": "stdout",
     "output_type": "stream",
     "text": [
      "Epoch 1/3\n",
      "1875/1875 [==============================] - 30s 16ms/step - loss: 0.1561 - accuracy: 0.9542 - val_loss: 0.0643 - val_accuracy: 0.9791\n",
      "Epoch 2/3\n",
      "1875/1875 [==============================] - 29s 16ms/step - loss: 0.0542 - accuracy: 0.9834 - val_loss: 0.0609 - val_accuracy: 0.9800\n",
      "Epoch 3/3\n",
      "1875/1875 [==============================] - 30s 16ms/step - loss: 0.0353 - accuracy: 0.9890 - val_loss: 0.0458 - val_accuracy: 0.9840\n"
     ]
    }
   ],
   "source": [
    "history = model.fit(x_train, y_train, epochs=3, validation_data=(x_test, y_test))\n"
   ]
  },
  {
   "cell_type": "markdown",
   "id": "74d16925",
   "metadata": {},
   "source": [
    "## Plotting learning curve"
   ]
  },
  {
   "cell_type": "code",
   "execution_count": 22,
   "id": "cef6f742",
   "metadata": {},
   "outputs": [
    {
     "name": "stdout",
     "output_type": "stream",
     "text": [
      "313/313 - 2s - loss: 0.0458 - accuracy: 0.9840\n"
     ]
    },
    {
     "data": {
      "image/png": "[encoded data removed]",
      "text/plain": [
       "<Figure size 432x288 with 1 Axes>"
      ]
     },
     "metadata": {
      "needs_background": "light"
     },
     "output_type": "display_data"
    }
   ],
   "source": [
    "plt.plot(history.history['accuracy'], label='accuracy')\n",
    "plt.plot(history.history['val_accuracy'], label = 'val_accuracy')\n",
    "plt.xlabel('Epoch')\n",
    "plt.ylabel('Accuracy')\n",
    "plt.title(\"Learning curve\")\n",
    "plt.ylim([0.5, 1])\n",
    "plt.legend(loc='lower right')\n",
    "test_loss, test_acc = model.evaluate(x_test,  y_test, verbose=2)"
   ]
  },
  {
   "cell_type": "markdown",
   "id": "eb7e8cae",
   "metadata": {},
   "source": [
    "## test accuracy and test loss"
   ]
  },
  {
   "cell_type": "code",
   "execution_count": 23,
   "id": "e2b13b96",
   "metadata": {},
   "outputs": [
    {
     "name": "stdout",
     "output_type": "stream",
     "text": [
      "Test accuracy:  0.984000027179718\n",
      "Test loss:  0.045800067484378815\n"
     ]
    }
   ],
   "source": [
    "print(\"Test accuracy: \",test_acc)\n",
    "print(\"Test loss: \",test_loss)"
   ]
  }
 ],
 "metadata": {
  "kernelspec": {
   "display_name": "Python 3 (ipykernel)",
   "language": "python",
   "name": "python3"
  },
  "language_info": {
   "codemirror_mode": {
    "name": "ipython",
    "version": 3
   },
   "file_extension": ".py",
   "mimetype": "text/x-python",
   "name": "python",
   "nbconvert_exporter": "python",
   "pygments_lexer": "ipython3",
   "version": "3.9.12"
  }
 },
 "nbformat": 4,
 "nbformat_minor": 5
}
